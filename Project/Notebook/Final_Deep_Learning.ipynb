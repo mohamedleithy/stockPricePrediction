{
  "metadata": {
    "kernelspec": {
      "language": "python",
      "display_name": "Python 3",
      "name": "python3"
    },
    "language_info": {
      "pygments_lexer": "ipython3",
      "nbconvert_exporter": "python",
      "version": "3.6.4",
      "file_extension": ".py",
      "codemirror_mode": {
        "name": "ipython",
        "version": 3
      },
      "name": "python",
      "mimetype": "text/x-python"
    },
    "colab": {
      "name": "Final_Deep_Learning.ipynb",
      "provenance": [],
      "collapsed_sections": [
        "Q5Bdo9htfwD9",
        "eSIfHSXcfwD-"
      ]
    }
  },
  "nbformat_minor": 0,
  "nbformat": 4,
  "cells": [
    {
      "cell_type": "markdown",
      "source": [
        "# Data Project - Stock Market Analysis \n",
        "\n",
        "![techAnalysis-1000x500.jpg](attachment:techAnalysis-1000x500.jpg)"
      ],
      "metadata": {
        "id": "K3uEs9iDfwD3"
      }
    },
    {
      "cell_type": "markdown",
      "source": [
        "In this notebook we will be looking at data from the stock market, particularly some technology stocks. We will learn how to use pandas to get stock information, visualize different aspects of it, and finally we will look at a few ways of analyzing the risk of a stock, based on its previous performance history. We will also be predicting future stock prices through a Long Short Term Memory (LSTM) method!\n",
        "\n",
        "We'll be answering the following questions along the way:\n",
        "\n",
        "    1.) What was the change in price of the stock over time?\n",
        "    2.) What was the daily return of the stock on average?\n",
        "    3.) What was the moving average of the various stocks?\n",
        "    4.) What was the correlation between different stocks'?\n",
        "    5.) How much value do we put at risk by investing in a particular stock?\n",
        "    6.) How can we attempt to predict future stock behavior? (Predicting the closing price stock price of APPLE inc using LSTM)\n",
        "   "
      ],
      "metadata": {
        "id": "jstiyCtgfwD4"
      }
    },
    {
      "cell_type": "markdown",
      "source": [
        "# 1. What was the change in price of the stock overtime?\n",
        "\n",
        "In this section we'll go over how to handle requesting stock information with pandas, and how to analyze basic attributes of a stock."
      ],
      "metadata": {
        "id": "YeMox93GfwD5"
      }
    },
    {
      "cell_type": "code",
      "source": [
        "!pip install -q hvplot\n",
        "!pip install --upgrade pandas\n",
        "!pip install --upgrade pandas-datareader\n",
        "!pip install -q yfinance"
      ],
      "metadata": {
        "_kg_hide-input": true,
        "_kg_hide-output": true,
        "execution": {
          "iopub.status.busy": "2022-02-16T19:17:51.625025Z",
          "iopub.execute_input": "2022-02-16T19:17:51.625431Z",
          "iopub.status.idle": "2022-02-16T19:18:04.097849Z",
          "shell.execute_reply.started": "2022-02-16T19:17:51.62539Z",
          "shell.execute_reply": "2022-02-16T19:18:04.097073Z"
        },
        "trusted": true,
        "colab": {
          "base_uri": "https://localhost:8080/"
        },
        "id": "_j4dpgR9fwD5",
        "outputId": "a9c369dd-8847-4792-cbf1-2ecfb0a828c6"
      },
      "execution_count": 1,
      "outputs": [
        {
          "output_type": "stream",
          "name": "stdout",
          "text": [
            "\u001b[?25l\r\u001b[K     |                                | 10 kB 26.6 MB/s eta 0:00:01\r\u001b[K     |▏                               | 20 kB 33.4 MB/s eta 0:00:01\r\u001b[K     |▎                               | 30 kB 21.1 MB/s eta 0:00:01\r\u001b[K     |▍                               | 40 kB 16.1 MB/s eta 0:00:01\r\u001b[K     |▌                               | 51 kB 9.5 MB/s eta 0:00:01\r\u001b[K     |▋                               | 61 kB 10.9 MB/s eta 0:00:01\r\u001b[K     |▊                               | 71 kB 11.1 MB/s eta 0:00:01\r\u001b[K     |▉                               | 81 kB 10.7 MB/s eta 0:00:01\r\u001b[K     |█                               | 92 kB 11.7 MB/s eta 0:00:01\r\u001b[K     |█                               | 102 kB 11.7 MB/s eta 0:00:01\r\u001b[K     |█▏                              | 112 kB 11.7 MB/s eta 0:00:01\r\u001b[K     |█▎                              | 122 kB 11.7 MB/s eta 0:00:01\r\u001b[K     |█▍                              | 133 kB 11.7 MB/s eta 0:00:01\r\u001b[K     |█▌                              | 143 kB 11.7 MB/s eta 0:00:01\r\u001b[K     |█▋                              | 153 kB 11.7 MB/s eta 0:00:01\r\u001b[K     |█▋                              | 163 kB 11.7 MB/s eta 0:00:01\r\u001b[K     |█▊                              | 174 kB 11.7 MB/s eta 0:00:01\r\u001b[K     |█▉                              | 184 kB 11.7 MB/s eta 0:00:01\r\u001b[K     |██                              | 194 kB 11.7 MB/s eta 0:00:01\r\u001b[K     |██                              | 204 kB 11.7 MB/s eta 0:00:01\r\u001b[K     |██▏                             | 215 kB 11.7 MB/s eta 0:00:01\r\u001b[K     |██▎                             | 225 kB 11.7 MB/s eta 0:00:01\r\u001b[K     |██▍                             | 235 kB 11.7 MB/s eta 0:00:01\r\u001b[K     |██▌                             | 245 kB 11.7 MB/s eta 0:00:01\r\u001b[K     |██▋                             | 256 kB 11.7 MB/s eta 0:00:01\r\u001b[K     |██▊                             | 266 kB 11.7 MB/s eta 0:00:01\r\u001b[K     |██▉                             | 276 kB 11.7 MB/s eta 0:00:01\r\u001b[K     |███                             | 286 kB 11.7 MB/s eta 0:00:01\r\u001b[K     |███                             | 296 kB 11.7 MB/s eta 0:00:01\r\u001b[K     |███▏                            | 307 kB 11.7 MB/s eta 0:00:01\r\u001b[K     |███▎                            | 317 kB 11.7 MB/s eta 0:00:01\r\u001b[K     |███▎                            | 327 kB 11.7 MB/s eta 0:00:01\r\u001b[K     |███▍                            | 337 kB 11.7 MB/s eta 0:00:01\r\u001b[K     |███▌                            | 348 kB 11.7 MB/s eta 0:00:01\r\u001b[K     |███▋                            | 358 kB 11.7 MB/s eta 0:00:01\r\u001b[K     |███▊                            | 368 kB 11.7 MB/s eta 0:00:01\r\u001b[K     |███▉                            | 378 kB 11.7 MB/s eta 0:00:01\r\u001b[K     |████                            | 389 kB 11.7 MB/s eta 0:00:01\r\u001b[K     |████                            | 399 kB 11.7 MB/s eta 0:00:01\r\u001b[K     |████▏                           | 409 kB 11.7 MB/s eta 0:00:01\r\u001b[K     |████▎                           | 419 kB 11.7 MB/s eta 0:00:01\r\u001b[K     |████▍                           | 430 kB 11.7 MB/s eta 0:00:01\r\u001b[K     |████▌                           | 440 kB 11.7 MB/s eta 0:00:01\r\u001b[K     |████▋                           | 450 kB 11.7 MB/s eta 0:00:01\r\u001b[K     |████▊                           | 460 kB 11.7 MB/s eta 0:00:01\r\u001b[K     |████▉                           | 471 kB 11.7 MB/s eta 0:00:01\r\u001b[K     |█████                           | 481 kB 11.7 MB/s eta 0:00:01\r\u001b[K     |█████                           | 491 kB 11.7 MB/s eta 0:00:01\r\u001b[K     |█████                           | 501 kB 11.7 MB/s eta 0:00:01\r\u001b[K     |█████▏                          | 512 kB 11.7 MB/s eta 0:00:01\r\u001b[K     |█████▎                          | 522 kB 11.7 MB/s eta 0:00:01\r\u001b[K     |█████▍                          | 532 kB 11.7 MB/s eta 0:00:01\r\u001b[K     |█████▌                          | 542 kB 11.7 MB/s eta 0:00:01\r\u001b[K     |█████▋                          | 552 kB 11.7 MB/s eta 0:00:01\r\u001b[K     |█████▊                          | 563 kB 11.7 MB/s eta 0:00:01\r\u001b[K     |█████▉                          | 573 kB 11.7 MB/s eta 0:00:01\r\u001b[K     |██████                          | 583 kB 11.7 MB/s eta 0:00:01\r\u001b[K     |██████                          | 593 kB 11.7 MB/s eta 0:00:01\r\u001b[K     |██████▏                         | 604 kB 11.7 MB/s eta 0:00:01\r\u001b[K     |██████▎                         | 614 kB 11.7 MB/s eta 0:00:01\r\u001b[K     |██████▍                         | 624 kB 11.7 MB/s eta 0:00:01\r\u001b[K     |██████▌                         | 634 kB 11.7 MB/s eta 0:00:01\r\u001b[K     |██████▌                         | 645 kB 11.7 MB/s eta 0:00:01\r\u001b[K     |██████▋                         | 655 kB 11.7 MB/s eta 0:00:01\r\u001b[K     |██████▊                         | 665 kB 11.7 MB/s eta 0:00:01\r\u001b[K     |██████▉                         | 675 kB 11.7 MB/s eta 0:00:01\r\u001b[K     |███████                         | 686 kB 11.7 MB/s eta 0:00:01\r\u001b[K     |███████                         | 696 kB 11.7 MB/s eta 0:00:01\r\u001b[K     |███████▏                        | 706 kB 11.7 MB/s eta 0:00:01\r\u001b[K     |███████▎                        | 716 kB 11.7 MB/s eta 0:00:01\r\u001b[K     |███████▍                        | 727 kB 11.7 MB/s eta 0:00:01\r\u001b[K     |███████▌                        | 737 kB 11.7 MB/s eta 0:00:01\r\u001b[K     |███████▋                        | 747 kB 11.7 MB/s eta 0:00:01\r\u001b[K     |███████▊                        | 757 kB 11.7 MB/s eta 0:00:01\r\u001b[K     |███████▉                        | 768 kB 11.7 MB/s eta 0:00:01\r\u001b[K     |████████                        | 778 kB 11.7 MB/s eta 0:00:01\r\u001b[K     |████████                        | 788 kB 11.7 MB/s eta 0:00:01\r\u001b[K     |████████▏                       | 798 kB 11.7 MB/s eta 0:00:01\r\u001b[K     |████████▏                       | 808 kB 11.7 MB/s eta 0:00:01\r\u001b[K     |████████▎                       | 819 kB 11.7 MB/s eta 0:00:01\r\u001b[K     |████████▍                       | 829 kB 11.7 MB/s eta 0:00:01\r\u001b[K     |████████▌                       | 839 kB 11.7 MB/s eta 0:00:01\r\u001b[K     |████████▋                       | 849 kB 11.7 MB/s eta 0:00:01\r\u001b[K     |████████▊                       | 860 kB 11.7 MB/s eta 0:00:01\r\u001b[K     |████████▉                       | 870 kB 11.7 MB/s eta 0:00:01\r\u001b[K     |█████████                       | 880 kB 11.7 MB/s eta 0:00:01\r\u001b[K     |█████████                       | 890 kB 11.7 MB/s eta 0:00:01\r\u001b[K     |█████████▏                      | 901 kB 11.7 MB/s eta 0:00:01\r\u001b[K     |█████████▎                      | 911 kB 11.7 MB/s eta 0:00:01\r\u001b[K     |█████████▍                      | 921 kB 11.7 MB/s eta 0:00:01\r\u001b[K     |█████████▌                      | 931 kB 11.7 MB/s eta 0:00:01\r\u001b[K     |█████████▋                      | 942 kB 11.7 MB/s eta 0:00:01\r\u001b[K     |█████████▊                      | 952 kB 11.7 MB/s eta 0:00:01\r\u001b[K     |█████████▉                      | 962 kB 11.7 MB/s eta 0:00:01\r\u001b[K     |█████████▉                      | 972 kB 11.7 MB/s eta 0:00:01\r\u001b[K     |██████████                      | 983 kB 11.7 MB/s eta 0:00:01\r\u001b[K     |██████████                      | 993 kB 11.7 MB/s eta 0:00:01\r\u001b[K     |██████████▏                     | 1.0 MB 11.7 MB/s eta 0:00:01\r\u001b[K     |██████████▎                     | 1.0 MB 11.7 MB/s eta 0:00:01\r\u001b[K     |██████████▍                     | 1.0 MB 11.7 MB/s eta 0:00:01\r\u001b[K     |██████████▌                     | 1.0 MB 11.7 MB/s eta 0:00:01\r\u001b[K     |██████████▋                     | 1.0 MB 11.7 MB/s eta 0:00:01\r\u001b[K     |██████████▊                     | 1.1 MB 11.7 MB/s eta 0:00:01\r\u001b[K     |██████████▉                     | 1.1 MB 11.7 MB/s eta 0:00:01\r\u001b[K     |███████████                     | 1.1 MB 11.7 MB/s eta 0:00:01\r\u001b[K     |███████████                     | 1.1 MB 11.7 MB/s eta 0:00:01\r\u001b[K     |███████████▏                    | 1.1 MB 11.7 MB/s eta 0:00:01\r\u001b[K     |███████████▎                    | 1.1 MB 11.7 MB/s eta 0:00:01\r\u001b[K     |███████████▍                    | 1.1 MB 11.7 MB/s eta 0:00:01\r\u001b[K     |███████████▍                    | 1.1 MB 11.7 MB/s eta 0:00:01\r\u001b[K     |███████████▌                    | 1.1 MB 11.7 MB/s eta 0:00:01\r\u001b[K     |███████████▋                    | 1.1 MB 11.7 MB/s eta 0:00:01\r\u001b[K     |███████████▊                    | 1.2 MB 11.7 MB/s eta 0:00:01\r\u001b[K     |███████████▉                    | 1.2 MB 11.7 MB/s eta 0:00:01\r\u001b[K     |████████████                    | 1.2 MB 11.7 MB/s eta 0:00:01\r\u001b[K     |████████████                    | 1.2 MB 11.7 MB/s eta 0:00:01\r\u001b[K     |████████████▏                   | 1.2 MB 11.7 MB/s eta 0:00:01\r\u001b[K     |████████████▎                   | 1.2 MB 11.7 MB/s eta 0:00:01\r\u001b[K     |████████████▍                   | 1.2 MB 11.7 MB/s eta 0:00:01\r\u001b[K     |████████████▌                   | 1.2 MB 11.7 MB/s eta 0:00:01\r\u001b[K     |████████████▋                   | 1.2 MB 11.7 MB/s eta 0:00:01\r\u001b[K     |████████████▊                   | 1.2 MB 11.7 MB/s eta 0:00:01\r\u001b[K     |████████████▉                   | 1.3 MB 11.7 MB/s eta 0:00:01\r\u001b[K     |█████████████                   | 1.3 MB 11.7 MB/s eta 0:00:01\r\u001b[K     |█████████████                   | 1.3 MB 11.7 MB/s eta 0:00:01\r\u001b[K     |█████████████                   | 1.3 MB 11.7 MB/s eta 0:00:01\r\u001b[K     |█████████████▏                  | 1.3 MB 11.7 MB/s eta 0:00:01\r\u001b[K     |█████████████▎                  | 1.3 MB 11.7 MB/s eta 0:00:01\r\u001b[K     |█████████████▍                  | 1.3 MB 11.7 MB/s eta 0:00:01\r\u001b[K     |█████████████▌                  | 1.3 MB 11.7 MB/s eta 0:00:01\r\u001b[K     |█████████████▋                  | 1.3 MB 11.7 MB/s eta 0:00:01\r\u001b[K     |█████████████▊                  | 1.4 MB 11.7 MB/s eta 0:00:01\r\u001b[K     |█████████████▉                  | 1.4 MB 11.7 MB/s eta 0:00:01\r\u001b[K     |██████████████                  | 1.4 MB 11.7 MB/s eta 0:00:01\r\u001b[K     |██████████████                  | 1.4 MB 11.7 MB/s eta 0:00:01\r\u001b[K     |██████████████▏                 | 1.4 MB 11.7 MB/s eta 0:00:01\r\u001b[K     |██████████████▎                 | 1.4 MB 11.7 MB/s eta 0:00:01\r\u001b[K     |██████████████▍                 | 1.4 MB 11.7 MB/s eta 0:00:01\r\u001b[K     |██████████████▌                 | 1.4 MB 11.7 MB/s eta 0:00:01\r\u001b[K     |██████████████▋                 | 1.4 MB 11.7 MB/s eta 0:00:01\r\u001b[K     |██████████████▊                 | 1.4 MB 11.7 MB/s eta 0:00:01\r\u001b[K     |██████████████▊                 | 1.5 MB 11.7 MB/s eta 0:00:01\r\u001b[K     |██████████████▉                 | 1.5 MB 11.7 MB/s eta 0:00:01\r\u001b[K     |███████████████                 | 1.5 MB 11.7 MB/s eta 0:00:01\r\u001b[K     |███████████████                 | 1.5 MB 11.7 MB/s eta 0:00:01\r\u001b[K     |███████████████▏                | 1.5 MB 11.7 MB/s eta 0:00:01\r\u001b[K     |███████████████▎                | 1.5 MB 11.7 MB/s eta 0:00:01\r\u001b[K     |███████████████▍                | 1.5 MB 11.7 MB/s eta 0:00:01\r\u001b[K     |███████████████▌                | 1.5 MB 11.7 MB/s eta 0:00:01\r\u001b[K     |███████████████▋                | 1.5 MB 11.7 MB/s eta 0:00:01\r\u001b[K     |███████████████▊                | 1.5 MB 11.7 MB/s eta 0:00:01\r\u001b[K     |███████████████▉                | 1.6 MB 11.7 MB/s eta 0:00:01\r\u001b[K     |████████████████                | 1.6 MB 11.7 MB/s eta 0:00:01\r\u001b[K     |████████████████                | 1.6 MB 11.7 MB/s eta 0:00:01\r\u001b[K     |████████████████▏               | 1.6 MB 11.7 MB/s eta 0:00:01\r\u001b[K     |████████████████▎               | 1.6 MB 11.7 MB/s eta 0:00:01\r\u001b[K     |████████████████▎               | 1.6 MB 11.7 MB/s eta 0:00:01\r\u001b[K     |████████████████▍               | 1.6 MB 11.7 MB/s eta 0:00:01\r\u001b[K     |████████████████▌               | 1.6 MB 11.7 MB/s eta 0:00:01\r\u001b[K     |████████████████▋               | 1.6 MB 11.7 MB/s eta 0:00:01\r\u001b[K     |████████████████▊               | 1.6 MB 11.7 MB/s eta 0:00:01\r\u001b[K     |████████████████▉               | 1.7 MB 11.7 MB/s eta 0:00:01\r\u001b[K     |█████████████████               | 1.7 MB 11.7 MB/s eta 0:00:01\r\u001b[K     |█████████████████               | 1.7 MB 11.7 MB/s eta 0:00:01\r\u001b[K     |█████████████████▏              | 1.7 MB 11.7 MB/s eta 0:00:01\r\u001b[K     |█████████████████▎              | 1.7 MB 11.7 MB/s eta 0:00:01\r\u001b[K     |█████████████████▍              | 1.7 MB 11.7 MB/s eta 0:00:01\r\u001b[K     |█████████████████▌              | 1.7 MB 11.7 MB/s eta 0:00:01\r\u001b[K     |█████████████████▋              | 1.7 MB 11.7 MB/s eta 0:00:01\r\u001b[K     |█████████████████▊              | 1.7 MB 11.7 MB/s eta 0:00:01\r\u001b[K     |█████████████████▉              | 1.8 MB 11.7 MB/s eta 0:00:01\r\u001b[K     |██████████████████              | 1.8 MB 11.7 MB/s eta 0:00:01\r\u001b[K     |██████████████████              | 1.8 MB 11.7 MB/s eta 0:00:01\r\u001b[K     |██████████████████              | 1.8 MB 11.7 MB/s eta 0:00:01\r\u001b[K     |██████████████████▏             | 1.8 MB 11.7 MB/s eta 0:00:01\r\u001b[K     |██████████████████▎             | 1.8 MB 11.7 MB/s eta 0:00:01\r\u001b[K     |██████████████████▍             | 1.8 MB 11.7 MB/s eta 0:00:01\r\u001b[K     |██████████████████▌             | 1.8 MB 11.7 MB/s eta 0:00:01\r\u001b[K     |██████████████████▋             | 1.8 MB 11.7 MB/s eta 0:00:01\r\u001b[K     |██████████████████▊             | 1.8 MB 11.7 MB/s eta 0:00:01\r\u001b[K     |██████████████████▉             | 1.9 MB 11.7 MB/s eta 0:00:01\r\u001b[K     |███████████████████             | 1.9 MB 11.7 MB/s eta 0:00:01\r\u001b[K     |███████████████████             | 1.9 MB 11.7 MB/s eta 0:00:01\r\u001b[K     |███████████████████▏            | 1.9 MB 11.7 MB/s eta 0:00:01\r\u001b[K     |███████████████████▎            | 1.9 MB 11.7 MB/s eta 0:00:01\r\u001b[K     |███████████████████▍            | 1.9 MB 11.7 MB/s eta 0:00:01\r\u001b[K     |███████████████████▌            | 1.9 MB 11.7 MB/s eta 0:00:01\r\u001b[K     |███████████████████▋            | 1.9 MB 11.7 MB/s eta 0:00:01\r\u001b[K     |███████████████████▋            | 1.9 MB 11.7 MB/s eta 0:00:01\r\u001b[K     |███████████████████▊            | 1.9 MB 11.7 MB/s eta 0:00:01\r\u001b[K     |███████████████████▉            | 2.0 MB 11.7 MB/s eta 0:00:01\r\u001b[K     |████████████████████            | 2.0 MB 11.7 MB/s eta 0:00:01\r\u001b[K     |████████████████████            | 2.0 MB 11.7 MB/s eta 0:00:01\r\u001b[K     |████████████████████▏           | 2.0 MB 11.7 MB/s eta 0:00:01\r\u001b[K     |████████████████████▎           | 2.0 MB 11.7 MB/s eta 0:00:01\r\u001b[K     |████████████████████▍           | 2.0 MB 11.7 MB/s eta 0:00:01\r\u001b[K     |████████████████████▌           | 2.0 MB 11.7 MB/s eta 0:00:01\r\u001b[K     |████████████████████▋           | 2.0 MB 11.7 MB/s eta 0:00:01\r\u001b[K     |████████████████████▊           | 2.0 MB 11.7 MB/s eta 0:00:01\r\u001b[K     |████████████████████▉           | 2.0 MB 11.7 MB/s eta 0:00:01\r\u001b[K     |█████████████████████           | 2.1 MB 11.7 MB/s eta 0:00:01\r\u001b[K     |█████████████████████           | 2.1 MB 11.7 MB/s eta 0:00:01\r\u001b[K     |█████████████████████▏          | 2.1 MB 11.7 MB/s eta 0:00:01\r\u001b[K     |█████████████████████▏          | 2.1 MB 11.7 MB/s eta 0:00:01\r\u001b[K     |█████████████████████▎          | 2.1 MB 11.7 MB/s eta 0:00:01\r\u001b[K     |█████████████████████▍          | 2.1 MB 11.7 MB/s eta 0:00:01\r\u001b[K     |█████████████████████▌          | 2.1 MB 11.7 MB/s eta 0:00:01\r\u001b[K     |█████████████████████▋          | 2.1 MB 11.7 MB/s eta 0:00:01\r\u001b[K     |█████████████████████▊          | 2.1 MB 11.7 MB/s eta 0:00:01\r\u001b[K     |█████████████████████▉          | 2.2 MB 11.7 MB/s eta 0:00:01\r\u001b[K     |██████████████████████          | 2.2 MB 11.7 MB/s eta 0:00:01\r\u001b[K     |██████████████████████          | 2.2 MB 11.7 MB/s eta 0:00:01\r\u001b[K     |██████████████████████▏         | 2.2 MB 11.7 MB/s eta 0:00:01\r\u001b[K     |██████████████████████▎         | 2.2 MB 11.7 MB/s eta 0:00:01\r\u001b[K     |██████████████████████▍         | 2.2 MB 11.7 MB/s eta 0:00:01\r\u001b[K     |██████████████████████▌         | 2.2 MB 11.7 MB/s eta 0:00:01\r\u001b[K     |██████████████████████▋         | 2.2 MB 11.7 MB/s eta 0:00:01\r\u001b[K     |██████████████████████▊         | 2.2 MB 11.7 MB/s eta 0:00:01\r\u001b[K     |██████████████████████▉         | 2.2 MB 11.7 MB/s eta 0:00:01\r\u001b[K     |██████████████████████▉         | 2.3 MB 11.7 MB/s eta 0:00:01\r\u001b[K     |███████████████████████         | 2.3 MB 11.7 MB/s eta 0:00:01\r\u001b[K     |███████████████████████         | 2.3 MB 11.7 MB/s eta 0:00:01\r\u001b[K     |███████████████████████▏        | 2.3 MB 11.7 MB/s eta 0:00:01\r\u001b[K     |███████████████████████▎        | 2.3 MB 11.7 MB/s eta 0:00:01\r\u001b[K     |███████████████████████▍        | 2.3 MB 11.7 MB/s eta 0:00:01\r\u001b[K     |███████████████████████▌        | 2.3 MB 11.7 MB/s eta 0:00:01\r\u001b[K     |███████████████████████▋        | 2.3 MB 11.7 MB/s eta 0:00:01\r\u001b[K     |███████████████████████▊        | 2.3 MB 11.7 MB/s eta 0:00:01\r\u001b[K     |███████████████████████▉        | 2.3 MB 11.7 MB/s eta 0:00:01\r\u001b[K     |████████████████████████        | 2.4 MB 11.7 MB/s eta 0:00:01\r\u001b[K     |████████████████████████        | 2.4 MB 11.7 MB/s eta 0:00:01\r\u001b[K     |████████████████████████▏       | 2.4 MB 11.7 MB/s eta 0:00:01\r\u001b[K     |████████████████████████▎       | 2.4 MB 11.7 MB/s eta 0:00:01\r\u001b[K     |████████████████████████▍       | 2.4 MB 11.7 MB/s eta 0:00:01\r\u001b[K     |████████████████████████▌       | 2.4 MB 11.7 MB/s eta 0:00:01\r\u001b[K     |████████████████████████▌       | 2.4 MB 11.7 MB/s eta 0:00:01\r\u001b[K     |████████████████████████▋       | 2.4 MB 11.7 MB/s eta 0:00:01\r\u001b[K     |████████████████████████▊       | 2.4 MB 11.7 MB/s eta 0:00:01\r\u001b[K     |████████████████████████▉       | 2.4 MB 11.7 MB/s eta 0:00:01\r\u001b[K     |█████████████████████████       | 2.5 MB 11.7 MB/s eta 0:00:01\r\u001b[K     |█████████████████████████       | 2.5 MB 11.7 MB/s eta 0:00:01\r\u001b[K     |█████████████████████████▏      | 2.5 MB 11.7 MB/s eta 0:00:01\r\u001b[K     |█████████████████████████▎      | 2.5 MB 11.7 MB/s eta 0:00:01\r\u001b[K     |█████████████████████████▍      | 2.5 MB 11.7 MB/s eta 0:00:01\r\u001b[K     |█████████████████████████▌      | 2.5 MB 11.7 MB/s eta 0:00:01\r\u001b[K     |█████████████████████████▋      | 2.5 MB 11.7 MB/s eta 0:00:01\r\u001b[K     |█████████████████████████▊      | 2.5 MB 11.7 MB/s eta 0:00:01\r\u001b[K     |█████████████████████████▉      | 2.5 MB 11.7 MB/s eta 0:00:01\r\u001b[K     |██████████████████████████      | 2.5 MB 11.7 MB/s eta 0:00:01\r\u001b[K     |██████████████████████████      | 2.6 MB 11.7 MB/s eta 0:00:01\r\u001b[K     |██████████████████████████▏     | 2.6 MB 11.7 MB/s eta 0:00:01\r\u001b[K     |██████████████████████████▏     | 2.6 MB 11.7 MB/s eta 0:00:01\r\u001b[K     |██████████████████████████▎     | 2.6 MB 11.7 MB/s eta 0:00:01\r\u001b[K     |██████████████████████████▍     | 2.6 MB 11.7 MB/s eta 0:00:01\r\u001b[K     |██████████████████████████▌     | 2.6 MB 11.7 MB/s eta 0:00:01\r\u001b[K     |██████████████████████████▋     | 2.6 MB 11.7 MB/s eta 0:00:01\r\u001b[K     |██████████████████████████▊     | 2.6 MB 11.7 MB/s eta 0:00:01\r\u001b[K     |██████████████████████████▉     | 2.6 MB 11.7 MB/s eta 0:00:01\r\u001b[K     |███████████████████████████     | 2.7 MB 11.7 MB/s eta 0:00:01\r\u001b[K     |███████████████████████████     | 2.7 MB 11.7 MB/s eta 0:00:01\r\u001b[K     |███████████████████████████▏    | 2.7 MB 11.7 MB/s eta 0:00:01\r\u001b[K     |███████████████████████████▎    | 2.7 MB 11.7 MB/s eta 0:00:01\r\u001b[K     |███████████████████████████▍    | 2.7 MB 11.7 MB/s eta 0:00:01\r\u001b[K     |███████████████████████████▌    | 2.7 MB 11.7 MB/s eta 0:00:01\r\u001b[K     |███████████████████████████▋    | 2.7 MB 11.7 MB/s eta 0:00:01\r\u001b[K     |███████████████████████████▊    | 2.7 MB 11.7 MB/s eta 0:00:01\r\u001b[K     |███████████████████████████▊    | 2.7 MB 11.7 MB/s eta 0:00:01\r\u001b[K     |███████████████████████████▉    | 2.7 MB 11.7 MB/s eta 0:00:01\r\u001b[K     |████████████████████████████    | 2.8 MB 11.7 MB/s eta 0:00:01\r\u001b[K     |████████████████████████████    | 2.8 MB 11.7 MB/s eta 0:00:01\r\u001b[K     |████████████████████████████▏   | 2.8 MB 11.7 MB/s eta 0:00:01\r\u001b[K     |████████████████████████████▎   | 2.8 MB 11.7 MB/s eta 0:00:01\r\u001b[K     |████████████████████████████▍   | 2.8 MB 11.7 MB/s eta 0:00:01\r\u001b[K     |████████████████████████████▌   | 2.8 MB 11.7 MB/s eta 0:00:01\r\u001b[K     |████████████████████████████▋   | 2.8 MB 11.7 MB/s eta 0:00:01\r\u001b[K     |████████████████████████████▊   | 2.8 MB 11.7 MB/s eta 0:00:01\r\u001b[K     |████████████████████████████▉   | 2.8 MB 11.7 MB/s eta 0:00:01\r\u001b[K     |█████████████████████████████   | 2.8 MB 11.7 MB/s eta 0:00:01\r\u001b[K     |█████████████████████████████   | 2.9 MB 11.7 MB/s eta 0:00:01\r\u001b[K     |█████████████████████████████▏  | 2.9 MB 11.7 MB/s eta 0:00:01\r\u001b[K     |█████████████████████████████▎  | 2.9 MB 11.7 MB/s eta 0:00:01\r\u001b[K     |█████████████████████████████▍  | 2.9 MB 11.7 MB/s eta 0:00:01\r\u001b[K     |█████████████████████████████▍  | 2.9 MB 11.7 MB/s eta 0:00:01\r\u001b[K     |█████████████████████████████▌  | 2.9 MB 11.7 MB/s eta 0:00:01\r\u001b[K     |█████████████████████████████▋  | 2.9 MB 11.7 MB/s eta 0:00:01\r\u001b[K     |█████████████████████████████▊  | 2.9 MB 11.7 MB/s eta 0:00:01\r\u001b[K     |█████████████████████████████▉  | 2.9 MB 11.7 MB/s eta 0:00:01\r\u001b[K     |██████████████████████████████  | 2.9 MB 11.7 MB/s eta 0:00:01\r\u001b[K     |██████████████████████████████  | 3.0 MB 11.7 MB/s eta 0:00:01\r\u001b[K     |██████████████████████████████▏ | 3.0 MB 11.7 MB/s eta 0:00:01\r\u001b[K     |██████████████████████████████▎ | 3.0 MB 11.7 MB/s eta 0:00:01\r\u001b[K     |██████████████████████████████▍ | 3.0 MB 11.7 MB/s eta 0:00:01\r\u001b[K     |██████████████████████████████▌ | 3.0 MB 11.7 MB/s eta 0:00:01\r\u001b[K     |██████████████████████████████▋ | 3.0 MB 11.7 MB/s eta 0:00:01\r\u001b[K     |██████████████████████████████▊ | 3.0 MB 11.7 MB/s eta 0:00:01\r\u001b[K     |██████████████████████████████▉ | 3.0 MB 11.7 MB/s eta 0:00:01\r\u001b[K     |███████████████████████████████ | 3.0 MB 11.7 MB/s eta 0:00:01\r\u001b[K     |███████████████████████████████ | 3.1 MB 11.7 MB/s eta 0:00:01\r\u001b[K     |███████████████████████████████ | 3.1 MB 11.7 MB/s eta 0:00:01\r\u001b[K     |███████████████████████████████▏| 3.1 MB 11.7 MB/s eta 0:00:01\r\u001b[K     |███████████████████████████████▎| 3.1 MB 11.7 MB/s eta 0:00:01\r\u001b[K     |███████████████████████████████▍| 3.1 MB 11.7 MB/s eta 0:00:01\r\u001b[K     |███████████████████████████████▌| 3.1 MB 11.7 MB/s eta 0:00:01\r\u001b[K     |███████████████████████████████▋| 3.1 MB 11.7 MB/s eta 0:00:01\r\u001b[K     |███████████████████████████████▊| 3.1 MB 11.7 MB/s eta 0:00:01\r\u001b[K     |███████████████████████████████▉| 3.1 MB 11.7 MB/s eta 0:00:01\r\u001b[K     |████████████████████████████████| 3.1 MB 11.7 MB/s eta 0:00:01\r\u001b[K     |████████████████████████████████| 3.1 MB 11.7 MB/s \n",
            "\u001b[?25hRequirement already satisfied: pandas in /usr/local/lib/python3.7/dist-packages (1.3.5)\n",
            "Requirement already satisfied: python-dateutil>=2.7.3 in /usr/local/lib/python3.7/dist-packages (from pandas) (2.8.2)\n",
            "Requirement already satisfied: pytz>=2017.3 in /usr/local/lib/python3.7/dist-packages (from pandas) (2022.1)\n",
            "Requirement already satisfied: numpy>=1.17.3 in /usr/local/lib/python3.7/dist-packages (from pandas) (1.21.6)\n",
            "Requirement already satisfied: six>=1.5 in /usr/local/lib/python3.7/dist-packages (from python-dateutil>=2.7.3->pandas) (1.15.0)\n",
            "Requirement already satisfied: pandas-datareader in /usr/local/lib/python3.7/dist-packages (0.9.0)\n",
            "Collecting pandas-datareader\n",
            "  Downloading pandas_datareader-0.10.0-py3-none-any.whl (109 kB)\n",
            "\u001b[K     |████████████████████████████████| 109 kB 10.8 MB/s \n",
            "\u001b[?25hRequirement already satisfied: requests>=2.19.0 in /usr/local/lib/python3.7/dist-packages (from pandas-datareader) (2.23.0)\n",
            "Requirement already satisfied: lxml in /usr/local/lib/python3.7/dist-packages (from pandas-datareader) (4.2.6)\n",
            "Requirement already satisfied: pandas>=0.23 in /usr/local/lib/python3.7/dist-packages (from pandas-datareader) (1.3.5)\n",
            "Requirement already satisfied: python-dateutil>=2.7.3 in /usr/local/lib/python3.7/dist-packages (from pandas>=0.23->pandas-datareader) (2.8.2)\n",
            "Requirement already satisfied: numpy>=1.17.3 in /usr/local/lib/python3.7/dist-packages (from pandas>=0.23->pandas-datareader) (1.21.6)\n",
            "Requirement already satisfied: pytz>=2017.3 in /usr/local/lib/python3.7/dist-packages (from pandas>=0.23->pandas-datareader) (2022.1)\n",
            "Requirement already satisfied: six>=1.5 in /usr/local/lib/python3.7/dist-packages (from python-dateutil>=2.7.3->pandas>=0.23->pandas-datareader) (1.15.0)\n",
            "Requirement already satisfied: idna<3,>=2.5 in /usr/local/lib/python3.7/dist-packages (from requests>=2.19.0->pandas-datareader) (2.10)\n",
            "Requirement already satisfied: urllib3!=1.25.0,!=1.25.1,<1.26,>=1.21.1 in /usr/local/lib/python3.7/dist-packages (from requests>=2.19.0->pandas-datareader) (1.24.3)\n",
            "Requirement already satisfied: certifi>=2017.4.17 in /usr/local/lib/python3.7/dist-packages (from requests>=2.19.0->pandas-datareader) (2021.10.8)\n",
            "Requirement already satisfied: chardet<4,>=3.0.2 in /usr/local/lib/python3.7/dist-packages (from requests>=2.19.0->pandas-datareader) (3.0.4)\n",
            "Installing collected packages: pandas-datareader\n",
            "  Attempting uninstall: pandas-datareader\n",
            "    Found existing installation: pandas-datareader 0.9.0\n",
            "    Uninstalling pandas-datareader-0.9.0:\n",
            "      Successfully uninstalled pandas-datareader-0.9.0\n",
            "Successfully installed pandas-datareader-0.10.0\n",
            "\u001b[K     |████████████████████████████████| 6.4 MB 12.7 MB/s \n",
            "\u001b[K     |████████████████████████████████| 63 kB 657 kB/s \n",
            "\u001b[31mERROR: pip's dependency resolver does not currently take into account all the packages that are installed. This behaviour is the source of the following dependency conflicts.\n",
            "google-colab 1.0.0 requires requests~=2.23.0, but you have requests 2.27.1 which is incompatible.\n",
            "datascience 0.10.6 requires folium==0.2.1, but you have folium 0.8.3 which is incompatible.\u001b[0m\n",
            "\u001b[?25h"
          ]
        }
      ]
    },
    {
      "cell_type": "code",
      "source": [
        "import pandas as pd\n",
        "import numpy as np\n",
        "from keras.utils.vis_utils import plot_model\n",
        "\n",
        "import matplotlib.pyplot as plt\n",
        "import seaborn as sns\n",
        "sns.set_style('whitegrid')\n",
        "plt.style.use(\"fivethirtyeight\")\n",
        "%matplotlib inline\n",
        "\n",
        "# For reading stock data from yahoo\n",
        "from pandas_datareader.data import DataReader\n",
        "import yfinance as yf\n",
        "\n",
        "# For time stamps\n",
        "from datetime import datetime"
      ],
      "metadata": {
        "execution": {
          "iopub.status.busy": "2022-02-16T19:18:04.100299Z",
          "iopub.execute_input": "2022-02-16T19:18:04.100535Z",
          "iopub.status.idle": "2022-02-16T19:18:05.159413Z",
          "shell.execute_reply.started": "2022-02-16T19:18:04.100508Z",
          "shell.execute_reply": "2022-02-16T19:18:05.158626Z"
        },
        "trusted": true,
        "id": "Sf8rSC-PfwD6"
      },
      "execution_count": 2,
      "outputs": []
    },
    {
      "cell_type": "markdown",
      "source": [
        "Let's go ahead and play aorund with the AAPL DataFrame to get a feel for the data"
      ],
      "metadata": {
        "id": "QUO6M3NgfwD7"
      }
    },
    {
      "cell_type": "markdown",
      "source": [
        "Now that we've seen the visualizations for the closing price and the volume traded each day, let's go ahead and caculate the moving average for the stock."
      ],
      "metadata": {
        "id": "2u2A319NfwD9"
      }
    },
    {
      "cell_type": "markdown",
      "source": [
        "# 6. Predicting the closing price stock price of APPLE inc:"
      ],
      "metadata": {
        "id": "y_o2HYgCfwEC"
      }
    },
    {
      "cell_type": "code",
      "source": [
        "# Get the stock quote\n",
        "df = DataReader('AAPL', data_source='yahoo', start='2012-01-01', end=datetime.now())\n",
        "# Show teh data\n",
        "df"
      ],
      "metadata": {
        "execution": {
          "iopub.status.busy": "2022-02-16T18:45:41.910659Z",
          "iopub.execute_input": "2022-02-16T18:45:41.910983Z",
          "iopub.status.idle": "2022-02-16T18:45:43.096984Z",
          "shell.execute_reply.started": "2022-02-16T18:45:41.910947Z",
          "shell.execute_reply": "2022-02-16T18:45:43.095719Z"
        },
        "trusted": true,
        "colab": {
          "base_uri": "https://localhost:8080/",
          "height": 455
        },
        "id": "Qnq6GRsRfwEC",
        "outputId": "2599b5e6-0fa5-4e45-91b8-ce70076744c3"
      },
      "execution_count": 10,
      "outputs": [
        {
          "output_type": "execute_result",
          "data": {
            "text/plain": [
              "                  High         Low        Open       Close       Volume  \\\n",
              "Date                                                                      \n",
              "2012-01-03   14.732143   14.607143   14.621429   14.686786  302220800.0   \n",
              "2012-01-04   14.810000   14.617143   14.642857   14.765714  260022000.0   \n",
              "2012-01-05   14.948214   14.738214   14.819643   14.929643  271269600.0   \n",
              "2012-01-06   15.098214   14.972143   14.991786   15.085714  318292800.0   \n",
              "2012-01-09   15.276786   15.048214   15.196429   15.061786  394024400.0   \n",
              "...                ...         ...         ...         ...          ...   \n",
              "2022-05-09  155.830002  151.490005  154.929993  152.059998  131577900.0   \n",
              "2022-05-10  156.740005  152.929993  155.520004  154.509995  115366700.0   \n",
              "2022-05-11  155.449997  145.809998  153.500000  146.500000  142689800.0   \n",
              "2022-05-12  146.199997  138.800003  142.770004  142.559998  182602000.0   \n",
              "2022-05-13  148.100006  143.110001  144.589996  147.110001  113787000.0   \n",
              "\n",
              "             Adj Close  \n",
              "Date                    \n",
              "2012-01-03   12.557465  \n",
              "2012-01-04   12.624951  \n",
              "2012-01-05   12.765112  \n",
              "2012-01-06   12.898554  \n",
              "2012-01-09   12.878095  \n",
              "...                ...  \n",
              "2022-05-09  152.059998  \n",
              "2022-05-10  154.509995  \n",
              "2022-05-11  146.500000  \n",
              "2022-05-12  142.559998  \n",
              "2022-05-13  147.110001  \n",
              "\n",
              "[2609 rows x 6 columns]"
            ],
            "text/html": [
              "\n",
              "  <div id=\"df-7d59728e-ecd9-4a7b-9502-817ed103fe8f\">\n",
              "    <div class=\"colab-df-container\">\n",
              "      <div>\n",
              "<style scoped>\n",
              "    .dataframe tbody tr th:only-of-type {\n",
              "        vertical-align: middle;\n",
              "    }\n",
              "\n",
              "    .dataframe tbody tr th {\n",
              "        vertical-align: top;\n",
              "    }\n",
              "\n",
              "    .dataframe thead th {\n",
              "        text-align: right;\n",
              "    }\n",
              "</style>\n",
              "<table border=\"1\" class=\"dataframe\">\n",
              "  <thead>\n",
              "    <tr style=\"text-align: right;\">\n",
              "      <th></th>\n",
              "      <th>High</th>\n",
              "      <th>Low</th>\n",
              "      <th>Open</th>\n",
              "      <th>Close</th>\n",
              "      <th>Volume</th>\n",
              "      <th>Adj Close</th>\n",
              "    </tr>\n",
              "    <tr>\n",
              "      <th>Date</th>\n",
              "      <th></th>\n",
              "      <th></th>\n",
              "      <th></th>\n",
              "      <th></th>\n",
              "      <th></th>\n",
              "      <th></th>\n",
              "    </tr>\n",
              "  </thead>\n",
              "  <tbody>\n",
              "    <tr>\n",
              "      <th>2012-01-03</th>\n",
              "      <td>14.732143</td>\n",
              "      <td>14.607143</td>\n",
              "      <td>14.621429</td>\n",
              "      <td>14.686786</td>\n",
              "      <td>302220800.0</td>\n",
              "      <td>12.557465</td>\n",
              "    </tr>\n",
              "    <tr>\n",
              "      <th>2012-01-04</th>\n",
              "      <td>14.810000</td>\n",
              "      <td>14.617143</td>\n",
              "      <td>14.642857</td>\n",
              "      <td>14.765714</td>\n",
              "      <td>260022000.0</td>\n",
              "      <td>12.624951</td>\n",
              "    </tr>\n",
              "    <tr>\n",
              "      <th>2012-01-05</th>\n",
              "      <td>14.948214</td>\n",
              "      <td>14.738214</td>\n",
              "      <td>14.819643</td>\n",
              "      <td>14.929643</td>\n",
              "      <td>271269600.0</td>\n",
              "      <td>12.765112</td>\n",
              "    </tr>\n",
              "    <tr>\n",
              "      <th>2012-01-06</th>\n",
              "      <td>15.098214</td>\n",
              "      <td>14.972143</td>\n",
              "      <td>14.991786</td>\n",
              "      <td>15.085714</td>\n",
              "      <td>318292800.0</td>\n",
              "      <td>12.898554</td>\n",
              "    </tr>\n",
              "    <tr>\n",
              "      <th>2012-01-09</th>\n",
              "      <td>15.276786</td>\n",
              "      <td>15.048214</td>\n",
              "      <td>15.196429</td>\n",
              "      <td>15.061786</td>\n",
              "      <td>394024400.0</td>\n",
              "      <td>12.878095</td>\n",
              "    </tr>\n",
              "    <tr>\n",
              "      <th>...</th>\n",
              "      <td>...</td>\n",
              "      <td>...</td>\n",
              "      <td>...</td>\n",
              "      <td>...</td>\n",
              "      <td>...</td>\n",
              "      <td>...</td>\n",
              "    </tr>\n",
              "    <tr>\n",
              "      <th>2022-05-09</th>\n",
              "      <td>155.830002</td>\n",
              "      <td>151.490005</td>\n",
              "      <td>154.929993</td>\n",
              "      <td>152.059998</td>\n",
              "      <td>131577900.0</td>\n",
              "      <td>152.059998</td>\n",
              "    </tr>\n",
              "    <tr>\n",
              "      <th>2022-05-10</th>\n",
              "      <td>156.740005</td>\n",
              "      <td>152.929993</td>\n",
              "      <td>155.520004</td>\n",
              "      <td>154.509995</td>\n",
              "      <td>115366700.0</td>\n",
              "      <td>154.509995</td>\n",
              "    </tr>\n",
              "    <tr>\n",
              "      <th>2022-05-11</th>\n",
              "      <td>155.449997</td>\n",
              "      <td>145.809998</td>\n",
              "      <td>153.500000</td>\n",
              "      <td>146.500000</td>\n",
              "      <td>142689800.0</td>\n",
              "      <td>146.500000</td>\n",
              "    </tr>\n",
              "    <tr>\n",
              "      <th>2022-05-12</th>\n",
              "      <td>146.199997</td>\n",
              "      <td>138.800003</td>\n",
              "      <td>142.770004</td>\n",
              "      <td>142.559998</td>\n",
              "      <td>182602000.0</td>\n",
              "      <td>142.559998</td>\n",
              "    </tr>\n",
              "    <tr>\n",
              "      <th>2022-05-13</th>\n",
              "      <td>148.100006</td>\n",
              "      <td>143.110001</td>\n",
              "      <td>144.589996</td>\n",
              "      <td>147.110001</td>\n",
              "      <td>113787000.0</td>\n",
              "      <td>147.110001</td>\n",
              "    </tr>\n",
              "  </tbody>\n",
              "</table>\n",
              "<p>2609 rows × 6 columns</p>\n",
              "</div>\n",
              "      <button class=\"colab-df-convert\" onclick=\"convertToInteractive('df-7d59728e-ecd9-4a7b-9502-817ed103fe8f')\"\n",
              "              title=\"Convert this dataframe to an interactive table.\"\n",
              "              style=\"display:none;\">\n",
              "        \n",
              "  <svg xmlns=\"http://www.w3.org/2000/svg\" height=\"24px\"viewBox=\"0 0 24 24\"\n",
              "       width=\"24px\">\n",
              "    <path d=\"M0 0h24v24H0V0z\" fill=\"none\"/>\n",
              "    <path d=\"M18.56 5.44l.94 2.06.94-2.06 2.06-.94-2.06-.94-.94-2.06-.94 2.06-2.06.94zm-11 1L8.5 8.5l.94-2.06 2.06-.94-2.06-.94L8.5 2.5l-.94 2.06-2.06.94zm10 10l.94 2.06.94-2.06 2.06-.94-2.06-.94-.94-2.06-.94 2.06-2.06.94z\"/><path d=\"M17.41 7.96l-1.37-1.37c-.4-.4-.92-.59-1.43-.59-.52 0-1.04.2-1.43.59L10.3 9.45l-7.72 7.72c-.78.78-.78 2.05 0 2.83L4 21.41c.39.39.9.59 1.41.59.51 0 1.02-.2 1.41-.59l7.78-7.78 2.81-2.81c.8-.78.8-2.07 0-2.86zM5.41 20L4 18.59l7.72-7.72 1.47 1.35L5.41 20z\"/>\n",
              "  </svg>\n",
              "      </button>\n",
              "      \n",
              "  <style>\n",
              "    .colab-df-container {\n",
              "      display:flex;\n",
              "      flex-wrap:wrap;\n",
              "      gap: 12px;\n",
              "    }\n",
              "\n",
              "    .colab-df-convert {\n",
              "      background-color: #E8F0FE;\n",
              "      border: none;\n",
              "      border-radius: 50%;\n",
              "      cursor: pointer;\n",
              "      display: none;\n",
              "      fill: #1967D2;\n",
              "      height: 32px;\n",
              "      padding: 0 0 0 0;\n",
              "      width: 32px;\n",
              "    }\n",
              "\n",
              "    .colab-df-convert:hover {\n",
              "      background-color: #E2EBFA;\n",
              "      box-shadow: 0px 1px 2px rgba(60, 64, 67, 0.3), 0px 1px 3px 1px rgba(60, 64, 67, 0.15);\n",
              "      fill: #174EA6;\n",
              "    }\n",
              "\n",
              "    [theme=dark] .colab-df-convert {\n",
              "      background-color: #3B4455;\n",
              "      fill: #D2E3FC;\n",
              "    }\n",
              "\n",
              "    [theme=dark] .colab-df-convert:hover {\n",
              "      background-color: #434B5C;\n",
              "      box-shadow: 0px 1px 3px 1px rgba(0, 0, 0, 0.15);\n",
              "      filter: drop-shadow(0px 1px 2px rgba(0, 0, 0, 0.3));\n",
              "      fill: #FFFFFF;\n",
              "    }\n",
              "  </style>\n",
              "\n",
              "      <script>\n",
              "        const buttonEl =\n",
              "          document.querySelector('#df-7d59728e-ecd9-4a7b-9502-817ed103fe8f button.colab-df-convert');\n",
              "        buttonEl.style.display =\n",
              "          google.colab.kernel.accessAllowed ? 'block' : 'none';\n",
              "\n",
              "        async function convertToInteractive(key) {\n",
              "          const element = document.querySelector('#df-7d59728e-ecd9-4a7b-9502-817ed103fe8f');\n",
              "          const dataTable =\n",
              "            await google.colab.kernel.invokeFunction('convertToInteractive',\n",
              "                                                     [key], {});\n",
              "          if (!dataTable) return;\n",
              "\n",
              "          const docLinkHtml = 'Like what you see? Visit the ' +\n",
              "            '<a target=\"_blank\" href=https://colab.research.google.com/notebooks/data_table.ipynb>data table notebook</a>'\n",
              "            + ' to learn more about interactive tables.';\n",
              "          element.innerHTML = '';\n",
              "          dataTable['output_type'] = 'display_data';\n",
              "          await google.colab.output.renderOutput(dataTable, element);\n",
              "          const docLink = document.createElement('div');\n",
              "          docLink.innerHTML = docLinkHtml;\n",
              "          element.appendChild(docLink);\n",
              "        }\n",
              "      </script>\n",
              "    </div>\n",
              "  </div>\n",
              "  "
            ]
          },
          "metadata": {},
          "execution_count": 10
        }
      ]
    },
    {
      "cell_type": "code",
      "source": [
        ""
      ],
      "metadata": {
        "id": "NQ_Q38Zn26YS"
      },
      "execution_count": null,
      "outputs": []
    },
    {
      "cell_type": "code",
      "source": [
        "plt.figure(figsize=(16,6))\n",
        "plt.title('Close Price History')\n",
        "plt.plot(df['Close'])\n",
        "plt.xlabel('Date', fontsize=18)\n",
        "plt.ylabel('Close Price USD ($)', fontsize=18)\n",
        "plt.show()"
      ],
      "metadata": {
        "execution": {
          "iopub.status.busy": "2022-02-16T18:45:43.098487Z",
          "iopub.execute_input": "2022-02-16T18:45:43.099122Z",
          "iopub.status.idle": "2022-02-16T18:45:43.603647Z",
          "shell.execute_reply.started": "2022-02-16T18:45:43.099065Z",
          "shell.execute_reply": "2022-02-16T18:45:43.601768Z"
        },
        "trusted": true,
        "colab": {
          "base_uri": "https://localhost:8080/",
          "height": 394
        },
        "id": "N4NFW8S1fwEC",
        "outputId": "79a9c69f-b890-487c-94e0-dcfb4c9221b0"
      },
      "execution_count": 11,
      "outputs": [
        {
          "output_type": "display_data",
          "data": {
            "text/plain": [
              "<Figure size 1152x432 with 1 Axes>"
            ],
            "image/png": "[encoded data removed]"
          },
          "metadata": {
            "needs_background": "light"
          }
        }
      ]
    },
    {
      "cell_type": "code",
      "source": [
        "df=pd.read_csv(\"/content/stock.csv\")\n",
        "tweets_dataframe=pd.read_csv(\"/content/Tweets_sentiment.csv\")\n",
        "df=df.merge(tweets_dataframe,on=['Date'])\n",
        "df.head\n",
        "df.to_csv('joinedTable.csv')"
      ],
      "metadata": {
        "id": "16hd_-eK27mY"
      },
      "execution_count": 12,
      "outputs": []
    },
    {
      "cell_type": "code",
      "source": [
        "                                                                                                                                                                                                                                                                                                                                                                                                                                                                                                                                                                                                                                                                                                                                                                                                                                                                                                                                                                                                                                                                                                                                                                                                                                                                                                                                                                                                                                                                                                                                                                                                                                                                                                                                                                                                                                                                                                                                                                                                                                                                                                                                                                                                                                                                                                                                                                                                                                                                                                                                                                                                                                                                                                                                                                                                                                                                                                                                                                                                                                                                                                                                                                                                                                                                                                                                                                                                                                                                                                                                                                                                                                                                                                                                                                                                                                                                                                                                                                                                                                                                                                                                                                                                                                                                                                                                                                                                                                                                                                                                                                                                                                                                                                                                                                                                                                                                                                                                                                                                                                                                                                                                                                                                                                                                                                                                                                                                  # Create a new dataframe with only the 'Close column \n",
        "#data=df.loc[:, 'polarity','Close/Last']\n",
        "\n",
        "data =df[['polarity',' Close/Last']]\n",
        "# Convert the dataframe to a numpy array\n",
        "dataset = data.values\n",
        "#Get the number of rows to train the model on\n",
        "training_data_len = int(np.ceil( len(dataset) * .95 ))\n",
        "\n",
        "training_data_len\n",
        "dataset"
      ],
      "metadata": {
        "execution": {
          "iopub.status.busy": "2022-02-16T18:45:43.605784Z",
          "iopub.execute_input": "2022-02-16T18:45:43.60665Z",
          "iopub.status.idle": "2022-02-16T18:45:43.619847Z",
          "shell.execute_reply.started": "2022-02-16T18:45:43.606563Z",
          "shell.execute_reply": "2022-02-16T18:45:43.618243Z"
        },
        "trusted": true,
        "id": "eAqx1ZBPfwED",
        "colab": {
          "base_uri": "https://localhost:8080/"
        },
        "outputId": "b41f56cc-6704-4f30-f228-ec4587d61d52"
      },
      "execution_count": 13,
      "outputs": [
        {
          "output_type": "execute_result",
          "data": {
            "text/plain": [
              "array([[  0.  , 293.65],\n",
              "       [  0.  , 293.65],\n",
              "       [ -0.5 , 293.65],\n",
              "       ...,\n",
              "       [  0.  ,  59.97],\n",
              "       [  0.4 ,  59.97],\n",
              "       [  0.  ,  59.97]])"
            ]
          },
          "metadata": {},
          "execution_count": 13
        }
      ]
    },
    {
      "cell_type": "code",
      "source": [
        "# Scale the data\n",
        "from sklearn.preprocessing import MinMaxScaler\n",
        "\n",
        "scaler = MinMaxScaler(feature_range=(0,1))\n",
        "scaled_data = scaler.fit_transform(dataset)\n",
        "\n",
        "scaled_data"
      ],
      "metadata": {
        "execution": {
          "iopub.status.busy": "2022-02-16T18:45:43.622508Z",
          "iopub.execute_input": "2022-02-16T18:45:43.623013Z",
          "iopub.status.idle": "2022-02-16T18:45:43.870559Z",
          "shell.execute_reply.started": "2022-02-16T18:45:43.622961Z",
          "shell.execute_reply": "2022-02-16T18:45:43.869064Z"
        },
        "trusted": true,
        "colab": {
          "base_uri": "https://localhost:8080/"
        },
        "id": "nccuO8HVfwED",
        "outputId": "9e9a4d68-fcad-4ac1-8915-dd365ca87d10"
      },
      "execution_count": 14,
      "outputs": [
        {
          "output_type": "execute_result",
          "data": {
            "text/plain": [
              "array([[0.5       , 1.        ],\n",
              "       [0.5       , 1.        ],\n",
              "       [0.25      , 1.        ],\n",
              "       ...,\n",
              "       [0.5       , 0.01666386],\n",
              "       [0.7       , 0.01666386],\n",
              "       [0.5       , 0.01666386]])"
            ]
          },
          "metadata": {},
          "execution_count": 14
        }
      ]
    },
    {
      "cell_type": "code",
      "source": [
        "train_data = scaled_data[0:int(training_data_len), :]\n",
        "#train_data=dataset\n",
        "train_data"
      ],
      "metadata": {
        "id": "LdQ4mHd8rge4",
        "colab": {
          "base_uri": "https://localhost:8080/"
        },
        "outputId": "aff4a1a3-b271-4873-8db3-9d76e18bda81"
      },
      "execution_count": 15,
      "outputs": [
        {
          "output_type": "execute_result",
          "data": {
            "text/plain": [
              "array([[0.5       , 1.        ],\n",
              "       [0.5       , 1.        ],\n",
              "       [0.25      , 1.        ],\n",
              "       ...,\n",
              "       [0.5       , 0.10233967],\n",
              "       [0.3       , 0.10414913],\n",
              "       [0.75      , 0.10414913]])"
            ]
          },
          "metadata": {},
          "execution_count": 15
        }
      ]
    },
    {
      "cell_type": "code",
      "source": [
        "# Create the training data set \n",
        "# Create the scaled training data set\n",
        "\n",
        "# Split the data into x_train and y_train data sets\n",
        "x_train = []\n",
        "y_train = []\n",
        "\n",
        "for i in range(60, len(train_data)):\n",
        "    x_train.append(train_data[i-60:i, 0:2])\n",
        "    y_train.append(train_data[i, 0:2])\n",
        "    #if i<= 61:\n",
        "        #print(x_train)\n",
        "        #print(y_train)\n",
        "        #print()\n",
        "        \n",
        "# Convert the x_train and y_train to numpy arrays \n",
        "x_train, y_train = np.array(x_train), np.array(y_train)\n",
        "\n",
        "# Reshape the data\n",
        "x_train = np.reshape(x_train, (x_train.shape[0], x_train.shape[1], 2))\n",
        "x_train.shape\n",
        "x_train\n"
      ],
      "metadata": {
        "_kg_hide-output": true,
        "execution": {
          "iopub.status.busy": "2022-02-16T18:45:43.873056Z",
          "iopub.execute_input": "2022-02-16T18:45:43.873597Z",
          "iopub.status.idle": "2022-02-16T18:45:43.894362Z",
          "shell.execute_reply.started": "2022-02-16T18:45:43.873542Z",
          "shell.execute_reply": "2022-02-16T18:45:43.893301Z"
        },
        "trusted": true,
        "colab": {
          "base_uri": "https://localhost:8080/"
        },
        "id": "Sij4u8XPfwED",
        "outputId": "c3304176-8429-4e53-834e-6384c89bd355"
      },
      "execution_count": 16,
      "outputs": [
        {
          "output_type": "execute_result",
          "data": {
            "text/plain": [
              "array([[[0.5       , 1.        ],\n",
              "        [0.5       , 1.        ],\n",
              "        [0.25      , 1.        ],\n",
              "        ...,\n",
              "        [0.45      , 0.81110082],\n",
              "        [0.5       , 0.81110082],\n",
              "        [0.4875    , 0.81110082]],\n",
              "\n",
              "       [[0.5       , 1.        ],\n",
              "        [0.25      , 1.        ],\n",
              "        [0.61      , 1.        ],\n",
              "        ...,\n",
              "        [0.5       , 0.81110082],\n",
              "        [0.4875    , 0.81110082],\n",
              "        [0.95      , 0.81110082]],\n",
              "\n",
              "       [[0.25      , 1.        ],\n",
              "        [0.61      , 1.        ],\n",
              "        [0.5       , 1.        ],\n",
              "        ...,\n",
              "        [0.4875    , 0.81110082],\n",
              "        [0.95      , 0.81110082],\n",
              "        [0.5325    , 0.81110082]],\n",
              "\n",
              "       ...,\n",
              "\n",
              "       [[0.75      , 0.10995624],\n",
              "        [0.5       , 0.10995624],\n",
              "        [0.1875    , 0.12556809],\n",
              "        ...,\n",
              "        [0.5       , 0.10233967],\n",
              "        [0.5       , 0.10233967],\n",
              "        [0.7       , 0.10233967]],\n",
              "\n",
              "       [[0.5       , 0.10995624],\n",
              "        [0.1875    , 0.12556809],\n",
              "        [0.5       , 0.12556809],\n",
              "        ...,\n",
              "        [0.5       , 0.10233967],\n",
              "        [0.7       , 0.10233967],\n",
              "        [0.5       , 0.10233967]],\n",
              "\n",
              "       [[0.1875    , 0.12556809],\n",
              "        [0.5       , 0.12556809],\n",
              "        [0.5       , 0.12556809],\n",
              "        ...,\n",
              "        [0.7       , 0.10233967],\n",
              "        [0.5       , 0.10233967],\n",
              "        [0.3       , 0.10414913]]])"
            ]
          },
          "metadata": {},
          "execution_count": 16
        }
      ]
    },
    {
      "cell_type": "code",
      "source": [
        "y_train"
      ],
      "metadata": {
        "id": "rHp6YrLp8dcP",
        "outputId": "e7b01ee0-9ede-4d50-fa28-18779ead8b2c",
        "colab": {
          "base_uri": "https://localhost:8080/"
        }
      },
      "execution_count": 17,
      "outputs": [
        {
          "output_type": "execute_result",
          "data": {
            "text/plain": [
              "array([[0.95      , 0.81110082],\n",
              "       [0.5325    , 0.81110082],\n",
              "       [0.58041667, 0.81110082],\n",
              "       ...,\n",
              "       [0.5       , 0.10233967],\n",
              "       [0.3       , 0.10414913],\n",
              "       [0.75      , 0.10414913]])"
            ]
          },
          "metadata": {},
          "execution_count": 17
        }
      ]
    },
    {
      "cell_type": "code",
      "source": [
        "from keras.models import Sequential\n",
        "from keras.layers import Dense, LSTM\n",
        "\n",
        "# Build the LSTM model\n",
        "model = Sequential()\n",
        "model.add(LSTM(128, return_sequences=True, input_shape= (x_train.shape[1], 2)))\n",
        "model.add(LSTM(64, return_sequences=False))\n",
        "model.add(Dense(25))\n",
        "model.add(Dense(2))\n",
        "plot_model(model, to_file='model_plot.png', show_shapes=True, show_layer_names=True)\n",
        "\n",
        "# Compile the model\n",
        "model.compile(optimizer='adam', loss='mean_squared_error')\n",
        "\n",
        "# Train the model\n",
        "model.fit(x_train, y_train, batch_size=1, epochs=5)"
      ],
      "metadata": {
        "execution": {
          "iopub.status.busy": "2022-02-16T18:45:43.895693Z",
          "iopub.execute_input": "2022-02-16T18:45:43.896072Z",
          "iopub.status.idle": "2022-02-16T18:48:27.501708Z",
          "shell.execute_reply.started": "2022-02-16T18:45:43.896022Z",
          "shell.execute_reply": "2022-02-16T18:48:27.500749Z"
        },
        "trusted": true,
        "colab": {
          "base_uri": "https://localhost:8080/"
        },
        "id": "p3Q-tlCyfwED",
        "outputId": "a5e4d4be-90db-4d54-9dab-c9ab104f1358"
      },
      "execution_count": 18,
      "outputs": [
        {
          "output_type": "stream",
          "name": "stdout",
          "text": [
            "Epoch 1/5\n",
            "2410/2410 [==============================] - 58s 23ms/step - loss: 0.0099\n",
            "Epoch 2/5\n",
            "2410/2410 [==============================] - 57s 24ms/step - loss: 0.0089\n",
            "Epoch 3/5\n",
            "2410/2410 [==============================] - 54s 22ms/step - loss: 0.0086\n",
            "Epoch 4/5\n",
            "2410/2410 [==============================] - 57s 24ms/step - loss: 0.0085\n",
            "Epoch 5/5\n",
            "2410/2410 [==============================] - 58s 24ms/step - loss: 0.0086\n"
          ]
        },
        {
          "output_type": "execute_result",
          "data": {
            "text/plain": [
              "<keras.callbacks.History at 0x7f9049b2c610>"
            ]
          },
          "metadata": {},
          "execution_count": 18
        }
      ]
    },
    {
      "cell_type": "code",
      "source": [
        "plot_model(model, to_file='model_plot.png', show_shapes=True, show_layer_names=True)"
      ],
      "metadata": {
        "colab": {
          "base_uri": "https://localhost:8080/",
          "height": 533
        },
        "id": "neaCY4kejxVo",
        "outputId": "b8e4e7d7-28c9-49e9-ea6f-3a565f2a366a"
      },
      "execution_count": 19,
      "outputs": [
        {
          "output_type": "execute_result",
          "data": {
            "text/plain": [
              "<IPython.core.display.Image object>"
            ],
            "image/png": "[encoded data removed]"
          },
          "metadata": {},
          "execution_count": 19
        }
      ]
    },
    {
      "cell_type": "code",
      "source": [
        "# Create the testing data set\n",
        "# Create a new array containing scaled values from index 1543 to 2002 \n",
        "test_data = scaled_data[training_data_len - 60: , :]\n",
        "# Create the data sets x_test and y_test\n",
        "x_test = []\n",
        "y_test = dataset[training_data_len:, :]\n",
        "for i in range(60, len(test_data)):\n",
        "    x_test.append(test_data[i-60:i, 0:2])\n",
        "    \n",
        "# Convert the data to a numpy array\n",
        "x_test = np.array(x_test)\n",
        "\n",
        "# Reshape the data\n",
        "x_test = np.reshape(x_test, (x_test.shape[0], x_test.shape[1], 2))\n",
        "\n",
        "# Get the models predicted price values \n",
        "predictions = model.predict(x_test)\n",
        "pd.DataFrame(predictions).to_csv('beforeReshape.csv')\n",
        "predictions = scaler.inverse_transform(predictions)\n",
        "\n",
        "#print(predictions.shape)\n",
        "#print(predictions)\n",
        "\n",
        "# Get the root mean squared error (RMSE)\n",
        "rmse = np.sqrt(np.mean(((predictions - y_test) ** 2)))\n",
        "print(rmse)\n"
      ],
      "metadata": {
        "execution": {
          "iopub.status.busy": "2022-02-16T18:48:27.505456Z",
          "iopub.execute_input": "2022-02-16T18:48:27.505907Z",
          "iopub.status.idle": "2022-02-16T18:48:28.547274Z",
          "shell.execute_reply.started": "2022-02-16T18:48:27.505874Z",
          "shell.execute_reply": "2022-02-16T18:48:28.546541Z"
        },
        "trusted": true,
        "colab": {
          "base_uri": "https://localhost:8080/"
        },
        "id": "sJ_o453LfwED",
        "outputId": "b8ceeaa2-6917-412a-90c2-9544f5998a71"
      },
      "execution_count": 20,
      "outputs": [
        {
          "output_type": "stream",
          "name": "stdout",
          "text": [
            "1.7618667094242955\n"
          ]
        }
      ]
    },
    {
      "cell_type": "code",
      "source": [
        "# Plot the data\n",
        "train = data[:training_data_len]\n",
        "valid = data[training_data_len:]\n",
        "valid['Predictions'] = predictions[:,1]\n",
        "# Visualize the data\n",
        "plt.figure(figsize=(16,6))\n",
        "plt.title('Model')\n",
        "plt.xlabel('Date', fontsize=18)\n",
        "plt.ylabel('Close Price USD ($)', fontsize=18)\n",
        "plt.plot(train[' Close/Last'])\n",
        "plt.plot(valid[[' Close/Last', 'Predictions']])\n",
        "plt.legend(['Train', 'Val', 'Predictions'], loc='lower left')\n",
        "plt.show()"
      ],
      "metadata": {
        "execution": {
          "iopub.status.busy": "2022-02-16T18:48:28.548426Z",
          "iopub.execute_input": "2022-02-16T18:48:28.548917Z",
          "iopub.status.idle": "2022-02-16T18:48:29.009332Z",
          "shell.execute_reply.started": "2022-02-16T18:48:28.548884Z",
          "shell.execute_reply": "2022-02-16T18:48:29.008006Z"
        },
        "trusted": true,
        "colab": {
          "base_uri": "https://localhost:8080/",
          "height": 521
        },
        "id": "7zJfeDcRfwEE",
        "outputId": "d53b71c0-48de-4435-b8cf-e1a216043a10"
      },
      "execution_count": 24,
      "outputs": [
        {
          "output_type": "stream",
          "name": "stderr",
          "text": [
            "/usr/local/lib/python3.7/dist-packages/ipykernel_launcher.py:4: SettingWithCopyWarning: \n",
            "A value is trying to be set on a copy of a slice from a DataFrame.\n",
            "Try using .loc[row_indexer,col_indexer] = value instead\n",
            "\n",
            "See the caveats in the documentation: https://pandas.pydata.org/pandas-docs/stable/user_guide/indexing.html#returning-a-view-versus-a-copy\n",
            "  after removing the cwd from sys.path.\n"
          ]
        },
        {
          "output_type": "display_data",
          "data": {
            "text/plain": [
              "<Figure size 1152x432 with 1 Axes>"
            ],
            "image/png": "[encoded data removed]"
          },
          "metadata": {
            "needs_background": "light"
          }
        }
      ]
    },
    {
      "cell_type": "code",
      "source": [
        "# Show the valid and predicted prices\n",
        "valid"
      ],
      "metadata": {
        "execution": {
          "iopub.status.busy": "2022-02-16T18:48:29.011874Z",
          "iopub.execute_input": "2022-02-16T18:48:29.012868Z",
          "iopub.status.idle": "2022-02-16T18:48:29.030487Z",
          "shell.execute_reply.started": "2022-02-16T18:48:29.012801Z",
          "shell.execute_reply": "2022-02-16T18:48:29.029749Z"
        },
        "trusted": true,
        "colab": {
          "base_uri": "https://localhost:8080/",
          "height": 424
        },
        "id": "czKi_L9hfwEE",
        "outputId": "a4dff293-3b21-43a2-a520-a9961d6927a2"
      },
      "execution_count": 23,
      "outputs": [
        {
          "output_type": "execute_result",
          "data": {
            "text/plain": [
              "      polarity   Close/Last  Predictions\n",
              "2470       0.0        80.76    78.294861\n",
              "2471       0.2        80.76    78.557640\n",
              "2472      -0.6        80.76    78.493538\n",
              "2473       0.5        80.76    79.052887\n",
              "2474       0.5        80.76    78.204826\n",
              "...        ...          ...          ...\n",
              "2595       0.0        59.97    58.046535\n",
              "2596       0.0        59.97    57.849010\n",
              "2597       0.0        59.97    57.789974\n",
              "2598       0.4        59.97    57.786053\n",
              "2599       0.0        59.97    57.638180\n",
              "\n",
              "[130 rows x 3 columns]"
            ],
            "text/html": [
              "\n",
              "  <div id=\"df-983d33cd-b0ff-4d75-beda-4c7cc8797683\">\n",
              "    <div class=\"colab-df-container\">\n",
              "      <div>\n",
              "<style scoped>\n",
              "    .dataframe tbody tr th:only-of-type {\n",
              "        vertical-align: middle;\n",
              "    }\n",
              "\n",
              "    .dataframe tbody tr th {\n",
              "        vertical-align: top;\n",
              "    }\n",
              "\n",
              "    .dataframe thead th {\n",
              "        text-align: right;\n",
              "    }\n",
              "</style>\n",
              "<table border=\"1\" class=\"dataframe\">\n",
              "  <thead>\n",
              "    <tr style=\"text-align: right;\">\n",
              "      <th></th>\n",
              "      <th>polarity</th>\n",
              "      <th>Close/Last</th>\n",
              "      <th>Predictions</th>\n",
              "    </tr>\n",
              "  </thead>\n",
              "  <tbody>\n",
              "    <tr>\n",
              "      <th>2470</th>\n",
              "      <td>0.0</td>\n",
              "      <td>80.76</td>\n",
              "      <td>78.294861</td>\n",
              "    </tr>\n",
              "    <tr>\n",
              "      <th>2471</th>\n",
              "      <td>0.2</td>\n",
              "      <td>80.76</td>\n",
              "      <td>78.557640</td>\n",
              "    </tr>\n",
              "    <tr>\n",
              "      <th>2472</th>\n",
              "      <td>-0.6</td>\n",
              "      <td>80.76</td>\n",
              "      <td>78.493538</td>\n",
              "    </tr>\n",
              "    <tr>\n",
              "      <th>2473</th>\n",
              "      <td>0.5</td>\n",
              "      <td>80.76</td>\n",
              "      <td>79.052887</td>\n",
              "    </tr>\n",
              "    <tr>\n",
              "      <th>2474</th>\n",
              "      <td>0.5</td>\n",
              "      <td>80.76</td>\n",
              "      <td>78.204826</td>\n",
              "    </tr>\n",
              "    <tr>\n",
              "      <th>...</th>\n",
              "      <td>...</td>\n",
              "      <td>...</td>\n",
              "      <td>...</td>\n",
              "    </tr>\n",
              "    <tr>\n",
              "      <th>2595</th>\n",
              "      <td>0.0</td>\n",
              "      <td>59.97</td>\n",
              "      <td>58.046535</td>\n",
              "    </tr>\n",
              "    <tr>\n",
              "      <th>2596</th>\n",
              "      <td>0.0</td>\n",
              "      <td>59.97</td>\n",
              "      <td>57.849010</td>\n",
              "    </tr>\n",
              "    <tr>\n",
              "      <th>2597</th>\n",
              "      <td>0.0</td>\n",
              "      <td>59.97</td>\n",
              "      <td>57.789974</td>\n",
              "    </tr>\n",
              "    <tr>\n",
              "      <th>2598</th>\n",
              "      <td>0.4</td>\n",
              "      <td>59.97</td>\n",
              "      <td>57.786053</td>\n",
              "    </tr>\n",
              "    <tr>\n",
              "      <th>2599</th>\n",
              "      <td>0.0</td>\n",
              "      <td>59.97</td>\n",
              "      <td>57.638180</td>\n",
              "    </tr>\n",
              "  </tbody>\n",
              "</table>\n",
              "<p>130 rows × 3 columns</p>\n",
              "</div>\n",
              "      <button class=\"colab-df-convert\" onclick=\"convertToInteractive('df-983d33cd-b0ff-4d75-beda-4c7cc8797683')\"\n",
              "              title=\"Convert this dataframe to an interactive table.\"\n",
              "              style=\"display:none;\">\n",
              "        \n",
              "  <svg xmlns=\"http://www.w3.org/2000/svg\" height=\"24px\"viewBox=\"0 0 24 24\"\n",
              "       width=\"24px\">\n",
              "    <path d=\"M0 0h24v24H0V0z\" fill=\"none\"/>\n",
              "    <path d=\"M18.56 5.44l.94 2.06.94-2.06 2.06-.94-2.06-.94-.94-2.06-.94 2.06-2.06.94zm-11 1L8.5 8.5l.94-2.06 2.06-.94-2.06-.94L8.5 2.5l-.94 2.06-2.06.94zm10 10l.94 2.06.94-2.06 2.06-.94-2.06-.94-.94-2.06-.94 2.06-2.06.94z\"/><path d=\"M17.41 7.96l-1.37-1.37c-.4-.4-.92-.59-1.43-.59-.52 0-1.04.2-1.43.59L10.3 9.45l-7.72 7.72c-.78.78-.78 2.05 0 2.83L4 21.41c.39.39.9.59 1.41.59.51 0 1.02-.2 1.41-.59l7.78-7.78 2.81-2.81c.8-.78.8-2.07 0-2.86zM5.41 20L4 18.59l7.72-7.72 1.47 1.35L5.41 20z\"/>\n",
              "  </svg>\n",
              "      </button>\n",
              "      \n",
              "  <style>\n",
              "    .colab-df-container {\n",
              "      display:flex;\n",
              "      flex-wrap:wrap;\n",
              "      gap: 12px;\n",
              "    }\n",
              "\n",
              "    .colab-df-convert {\n",
              "      background-color: #E8F0FE;\n",
              "      border: none;\n",
              "      border-radius: 50%;\n",
              "      cursor: pointer;\n",
              "      display: none;\n",
              "      fill: #1967D2;\n",
              "      height: 32px;\n",
              "      padding: 0 0 0 0;\n",
              "      width: 32px;\n",
              "    }\n",
              "\n",
              "    .colab-df-convert:hover {\n",
              "      background-color: #E2EBFA;\n",
              "      box-shadow: 0px 1px 2px rgba(60, 64, 67, 0.3), 0px 1px 3px 1px rgba(60, 64, 67, 0.15);\n",
              "      fill: #174EA6;\n",
              "    }\n",
              "\n",
              "    [theme=dark] .colab-df-convert {\n",
              "      background-color: #3B4455;\n",
              "      fill: #D2E3FC;\n",
              "    }\n",
              "\n",
              "    [theme=dark] .colab-df-convert:hover {\n",
              "      background-color: #434B5C;\n",
              "      box-shadow: 0px 1px 3px 1px rgba(0, 0, 0, 0.15);\n",
              "      filter: drop-shadow(0px 1px 2px rgba(0, 0, 0, 0.3));\n",
              "      fill: #FFFFFF;\n",
              "    }\n",
              "  </style>\n",
              "\n",
              "      <script>\n",
              "        const buttonEl =\n",
              "          document.querySelector('#df-983d33cd-b0ff-4d75-beda-4c7cc8797683 button.colab-df-convert');\n",
              "        buttonEl.style.display =\n",
              "          google.colab.kernel.accessAllowed ? 'block' : 'none';\n",
              "\n",
              "        async function convertToInteractive(key) {\n",
              "          const element = document.querySelector('#df-983d33cd-b0ff-4d75-beda-4c7cc8797683');\n",
              "          const dataTable =\n",
              "            await google.colab.kernel.invokeFunction('convertToInteractive',\n",
              "                                                     [key], {});\n",
              "          if (!dataTable) return;\n",
              "\n",
              "          const docLinkHtml = 'Like what you see? Visit the ' +\n",
              "            '<a target=\"_blank\" href=https://colab.research.google.com/notebooks/data_table.ipynb>data table notebook</a>'\n",
              "            + ' to learn more about interactive tables.';\n",
              "          element.innerHTML = '';\n",
              "          dataTable['output_type'] = 'display_data';\n",
              "          await google.colab.output.renderOutput(dataTable, element);\n",
              "          const docLink = document.createElement('div');\n",
              "          docLink.innerHTML = docLinkHtml;\n",
              "          element.appendChild(docLink);\n",
              "        }\n",
              "      </script>\n",
              "    </div>\n",
              "  </div>\n",
              "  "
            ]
          },
          "metadata": {},
          "execution_count": 23
        }
      ]
    }
  ]
}