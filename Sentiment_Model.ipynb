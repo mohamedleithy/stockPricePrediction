{
  "cells": [
    {
      "cell_type": "code",
      "execution_count": 1,
      "metadata": {
        "id": "Qhoy87JTE39I"
      },
      "outputs": [],
      "source": [
        "import pandas as pd\n",
        "from textblob import TextBlob\n",
        "\n",
        "\n",
        "\n"
      ]
    },
    {
      "cell_type": "code",
      "execution_count": 2,
      "metadata": {
        "id": "KXkTj-A-Iw9X"
      },
      "outputs": [],
      "source": [
        "df = pd.read_csv('/Users/leithy/Desktop/stockPricePrediction/applTweetsMar15-May12.csv')"
      ]
    },
    {
      "cell_type": "code",
      "execution_count": 3,
      "metadata": {
        "colab": {
          "base_uri": "https://localhost:8080/"
        },
        "id": "r3VU3bfCJZk5",
        "outputId": "ed55be7d-3db2-4f77-d5d3-f9c52b8d14cf"
      },
      "outputs": [
        {
          "data": {
            "text/plain": [
              "<bound method NDFrame.head of                                                  tweet        date\n",
              "0    notched its first 5% slide since October 30, 2...  11/05/2022\n",
              "1    Stunning math = 6% S&P Entire energy complex =...  11/05/2022\n",
              "2    How to trade Trendlines! Use this to improve y...  11/05/2022\n",
              "3    *APPLE SHARES EXTEND LOSSES, FALL TO LOWEST LE...  11/05/2022\n",
              "4                              is down almost 5% today  11/05/2022\n",
              "..                                                 ...         ...\n",
              "270  Returns, Last 10 Years... Bitcoin +890,500% Te...  28/03/2022\n",
              "271  Quad Witching for Newcomers @TrendSpider Quad ...  28/03/2022\n",
              "272  Foxconn says restarted some operations at Shen...  28/03/2022\n",
              "273  If your time horizon is 10 years… : : : : : : ...  28/03/2022\n",
              "274                             10 BUY and HOLD STOCKS  28/03/2022\n",
              "\n",
              "[275 rows x 2 columns]>"
            ]
          },
          "execution_count": 3,
          "metadata": {},
          "output_type": "execute_result"
        }
      ],
      "source": [
        "df.head"
      ]
    },
    {
      "cell_type": "code",
      "execution_count": 4,
      "metadata": {
        "colab": {
          "base_uri": "https://localhost:8080/"
        },
        "id": "fNcEPl2YLHNa",
        "outputId": "1694f58c-39af-427d-99c2-04fa3cf9ec0f"
      },
      "outputs": [
        {
          "data": {
            "text/plain": [
              "tweet    object\n",
              "date     object\n",
              "dtype: object"
            ]
          },
          "execution_count": 4,
          "metadata": {},
          "output_type": "execute_result"
        }
      ],
      "source": [
        "df.dtypes"
      ]
    },
    {
      "cell_type": "code",
      "execution_count": 6,
      "metadata": {
        "colab": {
          "base_uri": "https://localhost:8080/"
        },
        "id": "wWjnyvYMOKFp",
        "outputId": "d926d8ea-ad96-49b9-a544-aeb8b19869db"
      },
      "outputs": [
        {
          "name": "stdout",
          "output_type": "stream",
          "text": [
            "notched its first 5% slide since October 30, 2020 when it held moving average support at and traded to before a major correction. CPI was 1.2%. 10Y yields were 0.87%. Trump was President. Seems different this time.\n",
            "Stunning math = 6% S&P Entire energy complex = 4% S&P\n",
            "How to trade Trendlines! Use this to improve your trading.\n",
            "*APPLE SHARES EXTEND LOSSES, FALL TO LOWEST LEVEL SINCE OCT. 2021\n",
            "is down almost 5% today\n",
            "One can argue that with the 5% drop in today the last hidey hole in tech is finally dropping. Selling the winners tends to happen at the end of a decline\n",
            "down 7% in an hour down in an hour on no news someone is being liquidated\n",
            "| -4,38%\n",
            "Saudi Aramco passes as world's most valuable company\n",
            "Apple breaking into its yearly Value Area on Weekly Chart on heavy put activity not a good look...\n",
            "put sweep hitting the 7/15 contract 125 strike. Opening position. Unusual.\n",
            "Is Warren dumping now 148\n",
            "Saudi Aramco now has a larger market cap than Apple according to CompaniesMarketCap\n",
            "Apple is discontinuing the iPod more than 20 years after the device became the face of portable music and kickstarted its meteoric evolution into the world's biggest company\n",
            "news: - / / - US gives to Ukraine - still down - Bostic: 2 50BPS - EV patent, axes iPod touch - x - loses FIFA - x - Schumer: banning Congress stock trading on schedule - Futures:\n",
            "Market Recap: Cathie Wood lost how much? + Big hedge funds closing shorts + CPI Preview: Can the cooks save stocks? + Charts\n",
            "FREE VIDEO ~> MID-WEEK VIDEO 5/11:\n",
            "The 7.5 year uptrend in the + + + + + index was pierced to the downside, breaking down from a 2-year topping pattern.\n",
            "Market Analysis & Discussion for 05.11.22 Watch it\n",
            "and are the top holdings of the average Millennial and Gen Z investor\n",
            "Here's the intro of today's video from @MarketScholars Watch the full video for free here: Mentioned:\n",
            "Another S/R flip candidate.\n",
            "En los últimos 6 meses: 20% abajo. 25% abajo. 25% abajo. 40% abajo. 44% abajo. 51% abajo.\n",
            "Market Recap: Retail investors lost EVERYTHING + The Demon of Minneapolis says the Fed will not rescue stocks + Charts + Japanese stocks\n",
            "Update: Cracking I also discussed these levels Friday with @cvpayne. These two stocks desperately need to fix themselves or they become a major headwind for the big indices given their large weightings.\n",
            "Por si usted no lo vió, estas son las cantidades que han perdido en “capitalización de mercado” las “Big Techs” en los últimos 3 días de sesión en Wallstreet:\n",
            "Hard to say, but i like stocks down here... Really quite a rare opportunity.\n",
            "How to identity Entry Confirmations!\n",
            "UPDATED: Stocks right now vs their 52-week highs: • -16.9% • -36.7% • -42.3% • -51% • -69% • -71.7% • -74.5% • -74.6% • -75.3% • -77.3% • -82.5% • -80.7% • -87.3% • -89%\n",
            "nan\n",
            "En los últimos 6 meses: 20% abajo. 25% abajo. 25% abajo. 40% abajo. 44% abajo. 51% abajo.\n",
            "Market Recap: Retail investors lost EVERYTHING + The Demon of Minneapolis says the Fed will not rescue stocks + Charts + Japanese stocks\n",
            "Update: Cracking I also discussed these levels Friday with @cvpayne. These two stocks desperately need to fix themselves or they become a major headwind for the big indices given their large weightings.\n",
            "Por si usted no lo vió, estas son las cantidades que han perdido en “capitalización de mercado” las “Big Techs” en los últimos 3 días de sesión en Wallstreet:\n",
            "Hard to say, but i like stocks down here... Really quite a rare opportunity.\n",
            "How to identity Entry Confirmations!\n",
            "UPDATED: Stocks right now vs their 52-week highs: • -16.9% • -36.7% • -42.3% • -51% • -69% • -71.7% • -74.5% • -74.6% • -75.3% • -77.3% • -82.5% • -80.7% • -87.3% • -89%\n",
            "nan\n",
            "En los últimos 6 meses: 20% abajo. 25% abajo. 25% abajo. 40% abajo. 44% abajo. 51% abajo.\n",
            "Market Recap: Retail investors lost EVERYTHING + The Demon of Minneapolis says the Fed will not rescue stocks + Charts + Japanese stocks\n",
            "Update: Cracking I also discussed these levels Friday with @cvpayne. These two stocks desperately need to fix themselves or they become a major headwind for the big indices given their large weightings.\n",
            "Por si usted no lo vió, estas son las cantidades que han perdido en “capitalización de mercado” las “Big Techs” en los últimos 3 días de sesión en Wallstreet:\n",
            "Hard to say, but i like stocks down here... Really quite a rare opportunity.\n",
            "How to identity Entry Confirmations!\n",
            "UPDATED: Stocks right now vs their 52-week highs: • -16.9% • -36.7% • -42.3% • -51% • -69% • -71.7% • -74.5% • -74.6% • -75.3% • -77.3% • -82.5% • -80.7% • -87.3% • -89%\n",
            "nan\n",
            "En los últimos 6 meses: 20% abajo. 25% abajo. 25% abajo. 40% abajo. 44% abajo. 51% abajo.\n",
            "Market Recap: Retail investors lost EVERYTHING + The Demon of Minneapolis says the Fed will not rescue stocks + Charts + Japanese stocks\n",
            "Update: Cracking I also discussed these levels Friday with @cvpayne. These two stocks desperately need to fix themselves or they become a major headwind for the big indices given their large weightings.\n",
            "Por si usted no lo vió, estas son las cantidades que han perdido en “capitalización de mercado” las “Big Techs” en los últimos 3 días de sesión en Wallstreet:\n",
            "Hard to say, but i like stocks down here... Really quite a rare opportunity.\n",
            "How to identity Entry Confirmations!\n",
            "UPDATED: Stocks right now vs their 52-week highs: • -16.9% • -36.7% • -42.3% • -51% • -69% • -71.7% • -74.5% • -74.6% • -75.3% • -77.3% • -82.5% • -80.7% • -87.3% • -89%\n",
            "nan\n",
            "En los últimos 6 meses: 20% abajo. 25% abajo. 25% abajo. 40% abajo. 44% abajo. 51% abajo.\n",
            "Market Recap: Retail investors lost EVERYTHING + The Demon of Minneapolis says the Fed will not rescue stocks + Charts + Japanese stocks\n",
            "Update: Cracking I also discussed these levels Friday with @cvpayne. These two stocks desperately need to fix themselves or they become a major headwind for the big indices given their large weightings.\n",
            "Por si usted no lo vió, estas son las cantidades que han perdido en “capitalización de mercado” las “Big Techs” en los últimos 3 días de sesión en Wallstreet:\n",
            "Hard to say, but i like stocks down here... Really quite a rare opportunity.\n",
            "How to identity Entry Confirmations!\n",
            "UPDATED: Stocks right now vs their 52-week highs: • -16.9% • -36.7% • -42.3% • -51% • -69% • -71.7% • -74.5% • -74.6% • -75.3% • -77.3% • -82.5% • -80.7% • -87.3% • -89%\n",
            "nan\n",
            "En los últimos 6 meses: 20% abajo. 25% abajo. 25% abajo. 40% abajo. 44% abajo. 51% abajo.\n",
            "Market Recap: Retail investors lost EVERYTHING + The Demon of Minneapolis says the Fed will not rescue stocks + Charts + Japanese stocks\n",
            "Update: Cracking I also discussed these levels Friday with @cvpayne. These two stocks desperately need to fix themselves or they become a major headwind for the big indices given their large weightings.\n",
            "Por si usted no lo vió, estas son las cantidades que han perdido en “capitalización de mercado” las “Big Techs” en los últimos 3 días de sesión en Wallstreet:\n",
            "Hard to say, but i like stocks down here... Really quite a rare opportunity.\n",
            "How to identity Entry Confirmations!\n",
            "UPDATED: Stocks right now vs their 52-week highs: • -16.9% • -36.7% • -42.3% • -51% • -69% • -71.7% • -74.5% • -74.6% • -75.3% • -77.3% • -82.5% • -80.7% • -87.3% • -89%\n",
            "nan\n",
            "En los últimos 6 meses: 20% abajo. 25% abajo. 25% abajo. 40% abajo. 44% abajo. 51% abajo.\n",
            "Market Recap: Retail investors lost EVERYTHING + The Demon of Minneapolis says the Fed will not rescue stocks + Charts + Japanese stocks\n",
            "Update: Cracking I also discussed these levels Friday with @cvpayne. These two stocks desperately need to fix themselves or they become a major headwind for the big indices given their large weightings.\n",
            "Por si usted no lo vió, estas son las cantidades que han perdido en “capitalización de mercado” las “Big Techs” en los últimos 3 días de sesión en Wallstreet:\n",
            "Hard to say, but i like stocks down here... Really quite a rare opportunity.\n",
            "How to identity Entry Confirmations!\n",
            "UPDATED: Stocks right now vs their 52-week highs: • -16.9% • -36.7% • -42.3% • -51% • -69% • -71.7% • -74.5% • -74.6% • -75.3% • -77.3% • -82.5% • -80.7% • -87.3% • -89%\n",
            "nan\n",
            "Good morning TRADERS Pls Re-Tweet todays we are already short here and it's going lower getting hit, bad guide, slower growth watch if we get going. looking at shorts near same deal at 195 90\n",
            "J.P. Morgan weekly macro-market by Mislav and co. Peak Fed hawkishness Peak CPI Derating nearly complete Bottoming in China credit impulse should be relevant for the risk-on trade Banks catch up w/bonds\n",
            "now below 155.. How it all started at 180\n",
            "nan\n",
            "These two names make most of the market Both Hanging on a big support 150(154 friday lows)/270 Any more pressure or break of these levels will flush the market more, also same level for some relief bounce 400 and these important this week\n",
            "Price target revisions: 157 53 80 250 67 51 1900 16 81 55 130 64 0 0 5 82 231 138 2015 52 57 0 7.5 5\n",
            "Airpod revenue versus the revenue of top tech companies. Now you know!\n",
            "Tech sector remains just above its average relative valuation going back 32 years, but it is nowhere close to the “overvaluation” that existed 1998 - 2004, when the sector’s P/E multiple peaked above 50 times. FANMAG is just below its 5-yr average P/E multiple.\n",
            "He is winning. Maybe Warren Buffett will learn from his mistake with Don’t wait until AFTER the S-ramp to buy into these generational companies. Don’t wait until the founder is gone because of concentration risk. Get in and hold for the long ride up.\n",
            "Stocksera Trending Tickers\n",
            "Apple should change the logo for their stocks app to reflect current market conditions\n",
            "Stocks to Buy & Hold Forever What would you add?\n",
            "All I see is market bottom, market bottom, market bottom Folks We're in a bear market, there is no bottom, just bounces to sell\n",
            "Be right back... Haters will say that my rolex is fake\n",
            "Earn a Dividend EVERY month with this 3 stock portfolio: Altria Group Apple Chevron\n",
            "This drawdown started in Nov 21’ but doesn’t feel like we are nearly bottoming yet… H/t: @bespokeinvest\n",
            "Thread/ ‘Warren Buffett’s Investment’ In early 2016, Warren Buffett via began buying shares in Apple at ~$25 per share, adjusted for the stock split. shares are now worth which is a 6.3x return in 6 years or a ~36% annual return.\n",
            "Apple generated of Net Income per second in 2021\n",
            "Atentos, fuertes retrocesos en el Nasdaq durante la jornada de hoy, el índice tecnológico pierde hasta -4.2% y así se muestran “Big Techs” -3.9% -7.1% -5.6% -5.8% -6.2% -4.7% -7.2%\n",
            "Market Recap: Decoding Jerome Powell + From soft landing to softish? + Why Powell will ultimately fail + How long will the rebound last? + Oil will crush the peak inflation crowd + Charts\n",
            "Elite Options 230C > 224 | : 230 | SL: 222 170C > 165 | : 170 | SL: 163 1000C > 945 | : 1000 | SL: 929 5/19 300C > 290 | : 300 | SL: 286.50\n",
            "Trade plan for Thursday strong breakout after FOMC. SPX can move to 4370 if it breaks above 4300. Calls can work above 4300 setting up for a move to 225 if it holds 200 through Friday. Let's see if it tests 208 next should move to 170 if tech can run again\n",
            "Talk about the ultimate undercut on Monday. Technically trend didn't break since the price did not close below the zone.\n",
            "Apple is back over\n",
            "We’ve been watching/playing this all week in the @0xSocialClub I called out calls, calls and calls. All over 100%.\n",
            "Lacks insight when listening to dinosaurs of investing discuss technology These dinosaurs were wrong on & other leading TECH companies (Most Valuable in) Same: I don’t touch what I don’t understand. BUTOur\n",
            "It's happening. You can now trade the price of and with leverage, fully on-chain! Be one of the first to try it: We can list most major US stocks, more coming soon... Read our full announcement here:\n",
            "Good morning TRADERS Please share/Re-Tweet today's looking to break out again through so strong as any Dios look to be bought with some news with their plant looks ready to head to and bottomed?\n",
            "Seen on WSB: \"Buffett bought million more so I bought 1 share today.\"\n",
            "All six of the FANMAG stocks now below their 200-day moving averages. Hard to imagine the broad indexes mounting any kind of meaningful rally without some of these names working better than this!\n",
            "This support line on seems important\n",
            "Warren Buffett says Berkshire Hathaway added of shares in the first quarter\n",
            "*APPLE HIT WITH EU ANTITRUST COMPLAINT OVER IPHONE PAYMENTS\n",
            "Nasdaq down 15% on the month, this is the largest drop since —- 2008. GFC. I had been warning about this entire year.\n",
            "Year-to-Date performance: 1. -40% 2. -28% 3. -12% 4. -68% 5. -21% 6. -16% 7. -27% You are witnessing a recession in real time and the first domino just fell. There are many dominos ahead of it. What is the Fed going to do now?\n",
            "Apple generated a total of Billion in Revenue last quarter That breaks down to every day, every hour, every minute, every second\n",
            "Warren Buffett pre iPhone.\n",
            "price target changes: - Lowered to at Goldman Sachs - Lowered to at JPMorgan - Lowered to at Piper Sandler - Raised to at Credit Suisse - Lowered to at Deutsche Bank - Lowered to at Morgan Stanley\n",
            "Earnings Recap Stock 1Yr up 23% 5Yr up 356% EPS up 8.6% Revenue 97.3B Service Revenue up 17% YOY Do you own or buy the products?\n",
            "Yesterday's rally following &\n",
            "*APPLE: COVID IS IMPACTING SOME CUSTOMER DEMAND IN CHINA *APPLE: Y-O-Y REVENUE IN JUNE QUARTER WILL BE IMPACTED BY COVID *APPLE: RUSSIA WITHDRAWAL WILL IMPACT GROWTH RATE IN JUNE QTR *COOK: DEFINITELY SEEING SOME LEVEL OF INFLATION\n",
            "Peaked margins and Rev growth. Means Peak multiple. 25x fw PE. Bear mkts are (generous) 17x PE on trough EPS. The most important stock in the universe has a problem. It is also THE stock that has held up the entire mkt.\n",
            "APPLE DOWN AH puke\n",
            "is at after-hours lows after forecasting a negative impact of shutdowns in China. @RiskReversal and @TimSeymour both acknowledge that the company had an excellent quarter, but think it's likely that there is plenty of pain ahead for the stock.\n",
            "*APPLE SHARES REVERSE GAINS, LAST DOWN 4% DESPITE Q2 EARNINGS BEAT -\n",
            "Me talking on my IPhone while wearing my AirPod Pros Discussing how won’t beat Earnings\n",
            "reports another impressive quarter. Still waiting on the outlook. This looks to be better than results. There is light year gap between results.\n",
            "results! It's a record for a March quarter at billion. All the charts, here:\n",
            "EARNINGS: Apple Q2 EPS vs. Est.; Q2 Revs. vs. Est. • authorizes new billion share buyback, hikes dividend 5%. @stevekovach has the details.\n",
            "CEO says supply constraints will be significantly lower in Q2 versus Q1\n",
            "I'm wondering how far down will be tomorrow\n",
            "Apple revenues were up 9% over the prior year, a considerable slowdown from recent quarters but beating sales estimates for iPhones ($50.6 billion), Services ($19.8 billion), Macs ($10.4 billion), and iPads ($7.7 billion). Gross margin at 43.7% vs. 43.1% estimate.\n",
            "Apple Q2 Rev. Est. - Q2 EPS Est. - Q2 Service Rev. Est. - Q2 Products Rev. Est. - Q2 Mac Revenue Est. - Q2 iPhone Revenue Est. - Authorized Boost Of To Share Buyback\n",
            "Some stocks right now vs their 52-week high: • -8% • -29% • -29.8% • -44% • -63% • -63.6% • -67.7% • -69.6% • -71.8% • -75% • -76% • 79% • -81% • -87.9% • -90%\n",
            "*APPLE 2Q REV. EST. *APPLE BOARD AUTHORIZED BOOST OF TO EXISTING SHARE BUYBACK\n",
            "MKT Call is live at 1pm with @GuyAdami, @RiskReversal & @LizYoungStrat: Rundown: -Tech earnings - & getting crushed -The dollar ripping -Liz's note on time horizons Sponsored by @FactSet @SoFi Powered by @OpenExchangeTV\n",
            "after the close\n",
            "Follow up on IV crush. Don’t buy short dated, OTM or calls or puts please! Even buying May 6 will cut that IV in half if you do want to play them, hence helping avoid IV crush to an extent. Credit spreads or selling are the 2022 earnings option plays.\n",
            "Apple should be announcing a dividend increase today\n",
            "So has a P/E of ~113 and is at ~27 P/E. AAPL has great margins and many world-beating businesses that are growing nicely, while Tesla has been propped up by a series of sketchy fraudsters. Hwang is the beginning of the end. @SECGov is now playing “find the frauds.”\n",
            "& earnings after the bell, so todays sessions doesn’t mean much. Together, they have a 10.8% weighting in the S&P 500.\n",
            "A biotech stock that I am actually excited to see next earnings report on. Inmed (NASDAQ: book value and more cash on hand than current market cap. Currently at .75/share - analysis -\n",
            "Happy Thursday! *Here Are My - Stocks Set For Higher Open - Nasdaq Futures Jump 2% - Soars 18% After Results - Earnings - Also Report - Q1 GDP, Jobless Claims *May The Trading Gods Be With You\n",
            "if @ryancohen yolos 100% of his into i will put ,,,& into a blender and tweet a video of me drinking it gn\n",
            "Of the big 6, here’s what happened so far with 1Q earnings: - beat - missed - beat - beat - ? - ? Thoughts on AMZN and AAPL results tomorrow @elonmusk?\n",
            "Year-to-Date Returns: 1. -48% 2. -14% 3. -19% 4. -68% 5. -22% These five stocks have erased trillion in market cap since January 1st. 70%+ of tech stocks are in bear market territory. How in the world is the Nasdaq not down 30%+?\n",
            "Key week for it seems.\n",
            "I guess it's up to to save the world.\n",
            "Everything in the wrong place with Elon, Jack, Twitter and Tesla... @rick and @RiskReversal discuss volatile markets, impact on private tech valuations, and F'MAGA earnings Sponsored by @current Supported by @MasterworksIO @taboola\n",
            "Apple, is expected to announce a share buyback program of as much as billion when it unveils its quarterly results, as per Bloomberg.\n",
            "now is the new They have no debt almost, FCF improving giantly Products is v desirable For anyone comfortable with volatility that’s about to come in next few weeks, Tesla could offer good price points for long term, now 875\n",
            "WL 4/27/2022 above below above below above below above below above below Good luck!\n",
            "Here's the intro of today's video from @MarketScholars Watch the full video for free here: Mentioned:\n",
            "2022 Returns... +17% -6% -9% -13% -17% -18% -28% -28% -32% -34% -35% -35% -36% -37% -44% -45% -46% -47% -54% -65% -66% -67%\n",
            "Mon.: Tues.: Wed.: Thurs.: Fri.:\n",
            "JPMorgan Expects a 'Modest' Revenue Miss From Apple\n",
            "This week is PACKED\n",
            "MAJOR WEEK FOR EARNINGS HIGHLIGHTED THE ONES I AM WATCHING.\n",
            "The pace of Q1 reporting is ramping up! There are 178 companies in the S&P 500 on the earnings calendar this coming week. Some of the major companies reporting are and just to name a few.\n",
            "This week is going to be one of the most important weeks of 2022. 1. Almost all of big tech is reporting earnings 2. futures already down big 3. Momentum from last week’s decline has held 4. May Fed meeting approaching If finally breaks lower, it won’t be pretty.\n",
            "2 Foxconn factories suspending production\n",
            "Massive Earning Week Coming! JPA gives thoughts on position along with a brief overview of earnings • Hearts and retweets appreciate •\n",
            "MASSIVE earnings coming which will set the course for the market the next few weeks or months. If & can set the tone Tuesday with good quarters it can trigger a rally into & earnings on Thursday If 3/4 of them can deliver on earnings... to 469\n",
            "This Week's Most Notable *Mon: *Tues: *Wed: *Thurs: *Fri:\n",
            "Some of the companies reporting this coming week include Alphabet (Google), Meta (Facebook), Amazon, Apple, Microsoft, Visa, Mastercard, General Motors, GE, Ford, Boeing, and Mcdonald's.\n",
            "Happy Sunday! *Here Are My - Earnings - Also Report - Results - U.S. Inflation Data - U.S. Q1 GDP *May The Trading Gods Be With You\n",
            "*STAKES ARE HIGH AS MEGA-CAP TECH COMPANIES HIGHLIGHT BIG EARNINGS WEEK -\n",
            "This next week has a ton of important companies sharing Q2 earnings results. Keep an eye out! Monday - Tuesday - Wednesday - Thursday - Friday -\n",
            "How the largest stocks have performed so far in 2022 Apple -8.9% Microsoft -18.5% Google -17.4% Amazon -13.4% Tesla -4.9% Berkshire +12.2% Nvidia -33.7% Facebook -45.3% Taiwan Semi -20.5% UnitedHealth +3.7% +6.1%\n",
            "for the week\n",
            "2022 Returns... +13% -5% -9% -13% -17% -18% -27% -28% -33% -34% -36% -36% -37% -39% -45% -45% -46% -49% -54% -64% -67% -68%\n",
            "Friday Option Volumes 1.554m (49% call/51% put) 1.267m (51% call/49% put) 920k (48% call/52% put) 675k (70% call/30% put) 644k (40% call/60% put) 586k (49% call/51% put) 540k (47% call/52% put) 517k (53% call/47% put)\n",
            "140s 2500s and 160s and we bottom?\n",
            "Next week will be big.. APPLE, MICROSOFT, TWITTER, FACEBOOK, AMAZON Earnings: April 26- April 27- April 28- , , April 29- ,\n",
            "Good things take time. 42 years 1T market cap 1,000,000,000,000 Amazing things take (less) time 12 yrs 1T market cap Where will be in 42yrs?\n",
            "Year-to-Date Performance of popular stocks: 1. -46% 2. -10% 3. -15% 4. -65% 5. -17% 6. -16% 7. -17% 8. -24% 9. -35% 10. -27% 11. -56% Stocks look like it's 2008, yet can't even a hold correction.\n",
            "Patience is rewarded in investing. in these stocks, 5 years ago would be worth: - AMD ~$40,000 - Tesla ~$80,000 - Apple ~$25,000 - Google ~$15,000 - NVIDIA ~$45,000 - Amazon ~$20,000 - Microsoft ~$25,000\n",
            "reiterated with Buy rating at Tier1, price target set at\n",
            "Gotta love how CNBC baits their news headlines with a picture of even though the article has nothing to do with Tesla and even talks about how Tesla is one of a few that have restarted production. Perhaps an picture would be more appropriate?\n",
            "When it comes to investing, DIVERSIFICATION can be a major safety blanket Here are some key Dividend leaders across industries Healthcare Consumer Discretionary Semiconductors REITs Technology Which is your favorite?\n",
            "& back must be hurtin' from carrying the whole stock market.\n",
            "Big difference: never had great original content. product, tech, manufacturing expertise make TSLA EVs still far and away the best EVs on the market. Better analogy is iPhone, where BlackBerry, Nokia, Motorola, and Samsung never caught up.\n",
            "Nos últimos 12 meses: caiu 30% caiu 50% caiu 8% subiu 13% subiu 25% subiu 42% Fonte: AJ\n",
            "“Any day now, we can expect the chatter to get going over who will buy and for how much — and that will pose a fascinating question for the antitrust authorities. and would both be logical buyers, but should they be permitted ..?” @johnauthers\n",
            "Market Analysis & Discussion for 04.20.22 Watch it\n",
            "April 20th Watchlist Powered by @unusual_whales\n",
            "Price targets: 157 81 111 406 82 62 2450 25 115 78 172 83 51 0 5 81 231 138 2139 72\n",
            "Apple, iPhone update adds 'pregnant man' emoji and other gender neutral cartoons.\n",
            "(FT) - British households have cancelled video subscriptions in record numbers as they curb non-essential spending to cope with the cost of living squeeze, reinforcing concerns that a pandemic-fuelled boom in streaming is over ⁦@FT⁩\n",
            "4/18 Watchlist 170c > 166.10 | 160p < 164.50 185c > 183.45 | 177.5p < 180.30 96c > 94.05 | 90p < 91.90 43c > 41.50 | 38p < 39.90 41.5c > 40.65 | 38p < 39.35\n",
            "Workers at the flagship store in New York City have taken steps toward unionization\n",
            "This seems like a dumb move by It’s not the same as not including chargers with iPhone purchases since most people have chargers from previous iPhones. Not true of first time EV purchasers.\n",
            "The EMA Cloud: The Next Generation Of Indicators?\n",
            "Different investment types have different goals You can have a MIXED plan as well and be VERY successful Dividends Blue Chip Growth REITs Which is your GO TO type?\n",
            "With stimmy checks gone, rising food and gas prices, you will find cos like & are going to be the inverse charts to &\n",
            "You are given to build a Dividend Portfolio Here are your options per: per: per: How would you build your portfolio?\n",
            "*APPLE MACBOOK SHIPMENTS DELAYED AFTER LOCKDOWNS SLOW PRODUCTION\n",
            "Top S&P 500 Dividend Stocks by Market Cap Apple Microsoft Nvdia UnitedHealth Group Johnson & Johnson JPMorgan Proctor & Gamble Visa Exxon Mobil Home Depot\n",
            "Fine... 694 's and 69 retweets and I'm hopping on live trading spaces tomorrow\n",
            "33% of China is shut down. has done nothing but go UP on this news. and are also super reliant on products from China. amazing Macro cannot impact Momentum.\n",
            "My guy @tonyhawk getting into his @LucidMotors he knows whats up!!\n",
            "shipped an estimated 7 million Macs in Q1, an 8.6% increase year over year\n",
            "10 Dividend Growth Stocks 1 - Broadcom 2 - Home Depot 3 - Visa 4 - Mastercard 5 - Apple 6 - Starbucks 7 - Lowe's 8 - Tractor Supply Co 9 - AbbVie 10 - Bank of America\n",
            "CPI rose 8.5% in March, showing is at its highest level since December 1981 and follows a 7.9% annual increase in February. and are all among the most active\n",
            "Apple, could announce a new billion stock buyback plan and raise dividend by 5-10%, as per Citi.\n",
            "On this day in 1976 Apple's third co-founder Ronald Wayne left Apple and sold his 10% stake in the company for Today that 10% stake would be worth Billion\n",
            "The world is not happy w the @jackmallers announcement because everyone thought it would be What the world does not understand this accelerates the Merchant need to embrace or die! 3% is not sustainable.\n",
            "Buy and Hold Dividend Stocks Deere Apple AbbVie Costco Coca-Cola Microsoft Realty Income Home Depot Bank of America Johnson & Johnson\n",
            "I expect a few notable dividend increases this month from: Johnson & Johnson - 60th year of dividend increases Procter & Gamble - 66th year of dividend increases Costco - 18th year of dividend increases Apple - 10th year of dividend increases\n",
            "Here’s a list of some dividend stocks that we use everyday Procter & Gamble Colgate-Palmolive Unilever Johnson & Johnson Apple Microsoft PepsiCo Kellogg Coca-Cola Kraft Heinz What else would you add to the list?\n",
            "Coming up at 1pm on MKT Call @RiskReversal and @GuyAdami will discuss: -Growing calls for a recession -Big tech wreck -Bank earnings next week -Special guest: John Butters of FactSet Sponsored by @FactSet @OpenExc\n",
            "Just watched @TeamCavuto & @RoKhanna and extremely disappointed Congressman would hold up up as virtuous while demonizing Apple's Operating Margins 31% vs. XOM 11%. Stop the bogus war on Fossil Fuels - you are crushing the middle class and poor. Discussing on\n",
            "Which basket would you want for the next 5 years and why Basket A Basket B Basket C\n",
            "Apple’s 7.1% weight in the S&P 500 today is the largest weighting we’ve seen for any individual company going back to 1980.\n",
            "The iPhone 4S released in 2011 at an average cost of £599. If someone purchased £599 of shares that year instead of the phone AND NEVER purchased another share again. That investment would be worth roughly £10k today. Instead that phone is in landfill somewhere\n",
            "When you buy of You are really buying: Make investing easy again!\n",
            "Basket approach: Cybersecurity - Data - E-Comm - Semis - Fintech - SaaS - Ads - Restaurants - Energy - Dominant Brands - Def -\n",
            "On this day in 1976 Apple was founded by Steve Jobs and Steve Wozniak\n",
            "Market Madness Day 5 is LIVE! Matchups today include: vs. vs vs. vs vs vs @SheSurvivesNFT vs All matchups will be decided via polls in this thread RT your favorite matchups to give them an edge!\n",
            "Seen on WSB: \"Forest Gump would be worth over today if he held onto those shares\"\n",
            "JP MORGAN REMOVES STOCK FROM ITS ANALYST FOCUS LIST\n",
            "Apple is exploring new sources of memory chips, including its first Chinese producer of the critical component that goes into iPhones.\n",
            "DISCLAIMER: HIGH RISK Keep bets small. Lock in gains. 175C >175.73 | 175P <174.4 30C >30.04 | 28P <28.41 43C >42.97 | 40P <40.61 114C >112.56 | 108P <108.16 Good luck!\n",
            "Below you can see how many shares you need per company to EARN in annual dividend payments The lower yield stocks take a lot more upfront capital but they are also often growing their dividend FASTER\n",
            "Seen on WSB: \"Forest Gump would be worth over today if he held onto those shares\"\n",
            "JP MORGAN REMOVES STOCK FROM ITS ANALYST FOCUS LIST\n",
            "Apple is exploring new sources of memory chips, including its first Chinese producer of the critical component that goes into iPhones.\n",
            "DISCLAIMER: HIGH RISK Keep bets small. Lock in gains. 175C >175.73 | 175P <174.4 30C >30.04 | 28P <28.41 43C >42.97 | 40P <40.61 114C >112.56 | 108P <108.16 Good luck!\n",
            "Below you can see how many shares you need per company to EARN in annual dividend payments The lower yield stocks take a lot more upfront capital but they are also often growing their dividend FASTER\n",
            "Seen on WSB: \"Forest Gump would be worth over today if he held onto those shares\"\n",
            "JP MORGAN REMOVES STOCK FROM ITS ANALYST FOCUS LIST\n",
            "Apple is exploring new sources of memory chips, including its first Chinese producer of the critical component that goes into iPhones.\n",
            "DISCLAIMER: HIGH RISK Keep bets small. Lock in gains. 175C >175.73 | 175P <174.4 30C >30.04 | 28P <28.41 43C >42.97 | 40P <40.61 114C >112.56 | 108P <108.16 Good luck!\n",
            "Below you can see how many shares you need per company to EARN in annual dividend payments The lower yield stocks take a lot more upfront capital but they are also often growing their dividend FASTER\n",
            "Hackers pretending to be law enforcement reportedly accessed customer data from and\n",
            "BREAKING Apple & Facebook Gave User Data to Hackers\n",
            "working on project to bring financial services in-house - Bloomberg\n",
            "*APPLE WORKING ON PROJECT TO BRING FINANCIAL SERVICES IN-HOUSE\n",
            "reportedly planning to move financial services in house\n",
            "Intraday Option Volumes 1.008m (59% call/41% put) 589k (60% call/40% put) 514k (71% call/29% put) 479k (69% call/31% put) 417k (77% call/23% put) 395k (68% call/32% put) 367k (67% call/33% put) 302k (83% call/17% put)\n",
            "Last year, “Apple by itself shipped approximately 38.9m watches, about 2.5 times the entire Swiss watch exports.” - Morgan Stanley\n",
            "Build your portfolio around High-Quality Dividend Stocks Here are 15 SOLID Dividend stocks J&J Lowe's Home Depot Broadcom Microsoft Coke BofA P&G Costco Target Realty Income AbbVie Altria Starbucks Apple\n",
            "I'm not eating until has a red candle.\n",
            "*APPLE HAS BEEN GREEN FOR 10 DAYS IN ROW FOR THE FIRST TIME SINCE 2010 INSANE MOVE\n",
            "Returns, Last 10 Years.. Bitcoin +1,000,000% Tesla +14,323% NVIDIA +8,006% Netflix +2,130% Amazon +1,580% AMD +1,388% Domino's 1,131% Microsoft +1,087% Apple +830% Google +762% S&P 500 +293% Gold +10%\n",
            "The Department of Justice is backing an antitrust bill that targets &\n",
            "Apple's 7.1% weight in the S&P 500 today is the largest weighting we've seen for any individual company going back to 1980.\n",
            "Most Traded Contracts 01 April Call 01 April Call 01 April Call April Call 01 April Call 01 April Call 01 April Call 01 April Put 01 April Call 01 April Call\n",
            "Apple stock has now been Green for the last 10 straight trading days for the first time since 2010\n",
            "Dividend-Paying Companies You Use Everyday: - Phones - Coffee - Food - Drugs - Home - Drinks - Computer - Hygiene - Internet - Gas - Shopping - Groceries\n",
            "WEDBUSH: “.. being the first streamer to win Best Picture .. is a ‘drop the mic moment’ for Cupertino that should significantly bolster its subscriber base while attracting more A+ Hollywood talent .. a game changer ..” Reiterate Outperform, target\n",
            "Apple Shares Down 1.8% Premarket After Report Says Co To Cut Iphone, Airpods Output\n",
            "*APPLE TO CUT IPHONE, AIRPODS OUTPUT AMID UKRAINE WAR UNCERTAINTY - NIKKEI\n",
            "- Shares in European semiconductor companies are seen down 2-3% pre-market on reports Apple plans to cut its iPhone and AirPods output\n",
            "APPLE PLANS TO MAKE ABOUT 20% FEWER IPHONE SES NEXT QUARTER THAN ORIGINALLY PLANNED - NIKKEI\n",
            "These four \"liquid leaders\" are seeing some decent volume come in as they form the right side of their bases. It is difficult to imagine to Nasdaq charging higher without these four participating...\n",
            "While Tesla and Amazon have moved back into overbought territory on this rally, none of the mega-caps have managed to push into positive territory on the year yet.\n",
            "Yesterday I warned everyone of impending sell, and yield reversal Last week we bought china day before the rally Week before that, we shorted oil at the top All timestamped, all free, all I ask is like + retweet for more\n",
            "A real world coffee can portfolio. Wertheim has owned and since their IPOs. Plus a 150x in There have also been duds like Overall, putting himself in a position to capture extreme asymmetry made Wertheim a billionaire.\n",
            "Some buy & hold forever dividend stocks Procter & Gamble Apple Waste Management Microsoft Johnson & Johnson AbbVie Coca-Cola 3M JPMorgan Chase Target Costco Home Depot What would else would you add to this list?\n",
            "Right Now\n",
            "What’s deal w/ It clear their issues pre-date COVID, back to 2017 So, not momentary glitch Further, they apparently willing to disregard health & wellbeing of their consumers & staff, while tauting a legacy of health Notice @SpeakerPelosiheavily in @Apple\n",
            "just passed 1 million option contracts by noon! Almost 1/2 are 3/25 calls!!!! Stock now up on no real underlying volume 0.43% of avg or News! Who needs when you you can manipulate a 2 trillion underlying security with weekly derivatives!\n",
            "launches drivers license and state ID in Wallet with Arizona\n",
            "Apple is back over\n",
            "Retweet, Like, Follow to participate to win… winner at 500 likes\n",
            "I'm off today, but the companies I own via index funds/ETFs are working is selling more Model 3s is selling more iPhone 13s is selling more lattes is selling more groceries \"If you dont find a way to make money while you sleep, you'll work until you die\"\n",
            "Retornos en los últimos 10 años... Bitcoin +890,500% Tesla +12,717% Netflix +2,323% Amazon +1,643% Domino's 1,137% Microsoft +1,033% Apple +816% Google +770% S&P 500 +283% Gold +4% @charliebilello\n",
            "New to investing? Start by building a DIVERSIFIED portfolio Here is a way you could diversify your portfolio ETFs are the ultimate diversification Dividend Growth REITs Growth\n",
            "Here's how the largest stocks performed this past week Apple +6% Microsoft +7.3% Google +4.8% Amazon +10.8% Tesla +13.8% Berkshire +4.8% Nvidia +19.7% Meta +15.4% Taiwan Semi +5.2% UnitedHealth +4.8% +3.2%\n",
            "It's never too late to start - we started this IRA account in 2014, when I was 35 years old. I adjust holdings seldomly. This year, I'll be replacing With...? Holdings:\n",
            "On this day in 2015 Apple was added to the Dow Jones replacing AT&T\n",
            "Returns, Last 10 Years... Bitcoin +890,500% Tesla +12,717% NVIDIA +7,791% Netflix +2,323% Amazon +1,643% AMD +1,284% Domino's 1,137% Microsoft +1,033% Apple +816% Google +770% S&P 500 +283% Gold +4%\n",
            "Quad Witching for Newcomers @TrendSpider Quad Witching occurs 4 times a year (3rd Friday of March, June, September and December) when the contracts on four different types of assets expire. Chart shows last 4 QW days\n",
            "Foxconn says restarted some operations at Shenzhen campuses.-Bloomberg Another good news for in China.\n",
            "If your time horizon is 10 years… : : : : : : : : : : What 10 stocks would you want? (Not advice). Comment\n",
            "10 BUY and HOLD STOCKS\n"
          ]
        }
      ],
      "source": [
        "polarity=[]\n",
        "subjectivity=[]\n",
        "for d in df.itertuples():\n",
        "  print(d.tweet)\n",
        "  try:\n",
        "    strin=TextBlob((d.tweet))\n",
        "    polarity.append(strin.sentiment.polarity)\n",
        "    subjectivity.append(strin.sentiment.subjectivity)\n",
        "    #print(strin.sentiment)\n",
        "  except:\n",
        "    polarity.append(0)\n",
        "    subjectivity.append(0)\n",
        "\n",
        "df['polarity']=polarity\n",
        "df['subjectivity']=subjectivity\n",
        " \n"
      ]
    },
    {
      "cell_type": "code",
      "execution_count": 7,
      "metadata": {
        "colab": {
          "base_uri": "https://localhost:8080/"
        },
        "id": "Jc4ov6DRSlwd",
        "outputId": "6627fbcf-efdb-49e4-b0dd-9143260d5443"
      },
      "outputs": [
        {
          "data": {
            "text/plain": [
              "tweet            object\n",
              "date             object\n",
              "polarity        float64\n",
              "subjectivity    float64\n",
              "dtype: object"
            ]
          },
          "execution_count": 7,
          "metadata": {},
          "output_type": "execute_result"
        }
      ],
      "source": [
        "df.dtypes"
      ]
    },
    {
      "cell_type": "code",
      "execution_count": 66,
      "metadata": {
        "id": "Iio69AlVWxx4"
      },
      "outputs": [],
      "source": [
        "df.to_csv(\"Tweets_sentiment.csv\")"
      ]
    },
    {
      "cell_type": "code",
      "execution_count": null,
      "metadata": {
        "colab": {
          "base_uri": "https://localhost:8080/"
        },
        "id": "mNjDs5FFWdzH",
        "outputId": "ab05ba5a-79d2-4cda-e4ca-2c68183363bc"
      },
      "outputs": [
        {
          "data": {
            "text/plain": [
              "<bound method NDFrame.head of                                                   Tweet        Date  \\\n",
              "0     Apple CEO Tim Cook will receive total compensa...  27/12/2012   \n",
              "1     THE END OF SMARTPHONES: The Latest Rumor Is Th...  27/12/2012   \n",
              "2     THE END OF SMARTPHONES: The Latest Rumor Is Th...  27/12/2012   \n",
              "3     This Guy Quit The Software Business To Keep Yo...  27/12/2012   \n",
              "4     20 Tips And Tricks To Get The Most Out Of Your...  26/12/2012   \n",
              "...                                                 ...         ...   \n",
              "4657        Apple Price Target Cut To From At Jefferies  19/12/2018   \n",
              "4658  Apple doesn't have a gigafactory so they would...  19/12/2018   \n",
              "4659  Microsoft crushing Apple this year. +20% YTD -...  18/12/2018   \n",
              "4660  The biggest S&P 500 stocks and their drawdowns...  18/12/2018   \n",
              "4661  the problem with most option traders is they n...  18/12/2018   \n",
              "\n",
              "                                       sentiment  \n",
              "0     (-0.07777777777777779, 0.5194444444444445)  \n",
              "1                                     (0.5, 0.9)  \n",
              "2                                     (0.5, 0.9)  \n",
              "3                                    (0.05, 0.1)  \n",
              "4       (0.3181818181818182, 0.4772727272727273)  \n",
              "...                                          ...  \n",
              "4657                                  (0.0, 0.0)  \n",
              "4658                                 (-0.5, 0.5)  \n",
              "4659    (0.4227272727272727, 0.6590909090909091)  \n",
              "4660                                  (0.0, 0.0)  \n",
              "4661    (0.2698412698412698, 0.7212301587301587)  \n",
              "\n",
              "[4662 rows x 3 columns]>"
            ]
          },
          "execution_count": 54,
          "metadata": {},
          "output_type": "execute_result"
        }
      ],
      "source": [
        "df.head"
      ]
    },
    {
      "cell_type": "code",
      "execution_count": null,
      "metadata": {
        "id": "Da06kZ3mNYOD"
      },
      "outputs": [],
      "source": []
    }
  ],
  "metadata": {
    "colab": {
      "name": "Untitled14.ipynb",
      "provenance": []
    },
    "interpreter": {
      "hash": "b0fa6594d8f4cbf19f97940f81e996739fb7646882a419484c72d19e05852a7e"
    },
    "kernelspec": {
      "display_name": "Python 3.9.12 64-bit",
      "language": "python",
      "name": "python3"
    },
    "language_info": {
      "codemirror_mode": {
        "name": "ipython",
        "version": 3
      },
      "file_extension": ".py",
      "mimetype": "text/x-python",
      "name": "python",
      "nbconvert_exporter": "python",
      "pygments_lexer": "ipython3",
      "version": "3.9.12"
    }
  },
  "nbformat": 4,
  "nbformat_minor": 0
}
